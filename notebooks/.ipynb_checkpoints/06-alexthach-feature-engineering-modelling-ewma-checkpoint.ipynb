{
 "cells": [
  {
   "cell_type": "markdown",
   "id": "f06422b9-0341-4415-b2f3-fc48bd3bc867",
   "metadata": {},
   "source": [
    "![spotify_logo](../assets/Spotify_Logo_CMYK_Green.png)"
   ]
  },
  {
   "cell_type": "markdown",
   "id": "cc71a744-3120-4e2f-8483-c6d754adbf7d",
   "metadata": {
    "jp-MarkdownHeadingCollapsed": true,
    "tags": []
   },
   "source": [
    "# Spotify Skip Prediction: Feature Engineering and Modelling - Exponentially-Weighed Moving Average of Session Features\n",
    "Notebook: 5 of 7\n",
    "\n",
    "Author: Alex Thach - alcthach@gmail.com  \n",
    "BrainStation Data Science Capstone Project - Winter 2022  \n",
    "April 4, 2022\n",
    "---"
   ]
  },
  {
   "cell_type": "markdown",
   "id": "a3ec37fd-d673-4f8d-8aee-991ab65cac4b",
   "metadata": {
    "jp-MarkdownHeadingCollapsed": true,
    "tags": []
   },
   "source": [
    "# Recap\n",
    "- I moved on from the baseline feature engineering and modelling from the previous notebook, and looked to explore the outcome of encoding session characteristics into a single observation\n",
    "- Instead of a single row in the data representing the song characteristics and how the user interacted with the song, I wanted to capture the aggregrate characteristics of the session at that point in time\n",
    "- I successfully transformed the dataset, and minimized the threat of data leakage by staggering skip and track end behaviours by one observation (or song)\n",
    "- In general the model performed worse than the baseline model from the last notebook, this is likely due to the equal weighting of each observation \n",
    "- **So far in the project, the findings seem to suggest that previous user interaction history, and weighing of this history appear to have an important effect on predicting skip outcomes of each track**"
   ]
  },
  {
   "cell_type": "markdown",
   "id": "145b031d-efc3-4620-a35f-6c2b2f488b57",
   "metadata": {
    "jp-MarkdownHeadingCollapsed": true,
    "tags": []
   },
   "source": [
    "# Purpose: \n",
    "The goal of this notebook is continue with a final run of feature engineering and modelling experiments. I will aim to engineering a feature that encodes aggregate user interaction and track features with a weighing towards the most recent time period.\n",
    "\n",
    "---"
   ]
  },
  {
   "cell_type": "markdown",
   "id": "d754c615-5f82-455a-9e63-016938dbf8b6",
   "metadata": {
    "tags": []
   },
   "source": [
    "# Summary/Highlights:\n",
    "- Successfully transformed the features to an exponentially-weight moving area\n",
    "- In which a single observation in the dataset provides aggregrate information about the session, weight more towards the current song\n",
    "- Rather than equally weighting all characteristics during each track position in a listening session\n",
    "- I converged on an alpha parameter of 0.7 to compute the exponentially-weighted moving average\n",
    "- At the end of this notebook, I trained Random Forest Classifier on the optimized EWMA-transformed data, yielding a mean cross-validation (5-fold) score of 78%\n",
    "\n",
    "---"
   ]
  },
  {
   "cell_type": "code",
   "execution_count": 1,
   "id": "590655ad-7da1-473c-b02e-a7f1a81eddb8",
   "metadata": {},
   "outputs": [
    {
     "name": "stdout",
     "output_type": "stream",
     "text": [
      "Dataframes in the global name space now include:\n",
      "session_logs_df\n",
      "track_features_df\n"
     ]
    }
   ],
   "source": [
    "# Runs setup script, imports, plotting settings, reads in raw data\n",
    "%run -i \"../scripts/at-setup.py\" "
   ]
  },
  {
   "cell_type": "code",
   "execution_count": 2,
   "id": "e13dd640-b029-49f1-871f-7b22c5355876",
   "metadata": {},
   "outputs": [],
   "source": [
    "# Reads in data\n",
    "main_df = pd.read_csv('../data/processed/merged.csv')\n",
    "features = pd.read_csv('../data/processed/features.csv')\n",
    "target = pd.read_csv('../data/processed/target.csv')"
   ]
  },
  {
   "cell_type": "markdown",
   "id": "ca01d246-c1b1-4af1-9ba6-1654f771b3c3",
   "metadata": {},
   "source": [
    "## Exponentially-weight moving average: Capturing aggregate user interaction and track features with optimal weighting \n",
    "\n",
    "- To properly capture aggregrate characteristics of a listening session I will employ an exponentially-weighted moving average (EWMA)\n",
    "- In essence, this is a moving average that weighs the next observation more heavily in its calculations of the moving average\n",
    "- I will employ a similar methodology as seen in the previous notebook while computing cumulative average\n",
    "    - The coding patterns will look similar but I will call the `'.ewm()'` method from pandas to help me calculate the EWMA\n",
    "    - We will choose an arbitrary alpha parameter (smoothing factor) of 0.5, which determines the weighting in the the calculations\n",
    "    - Following which I will optimize for this parameter"
   ]
  },
  {
   "cell_type": "code",
   "execution_count": 3,
   "id": "5010baa9-9fa0-442f-ac4a-b05d7eee8eee",
   "metadata": {},
   "outputs": [],
   "source": [
    "# Assigns variables prior to feature engineering\n",
    "X1 = features\n",
    "y = target"
   ]
  },
  {
   "cell_type": "code",
   "execution_count": 4,
   "id": "054b7691-2067-4984-8af6-761e6b00dd6f",
   "metadata": {},
   "outputs": [
    {
     "data": {
      "text/html": [
       "<div>\n",
       "<style scoped>\n",
       "    .dataframe tbody tr th:only-of-type {\n",
       "        vertical-align: middle;\n",
       "    }\n",
       "\n",
       "    .dataframe tbody tr th {\n",
       "        vertical-align: top;\n",
       "    }\n",
       "\n",
       "    .dataframe thead th {\n",
       "        text-align: right;\n",
       "    }\n",
       "</style>\n",
       "<table border=\"1\" class=\"dataframe\">\n",
       "  <thead>\n",
       "    <tr style=\"text-align: right;\">\n",
       "      <th></th>\n",
       "      <th>session_id</th>\n",
       "      <th>session_position</th>\n",
       "      <th>session_length</th>\n",
       "      <th>skip_2</th>\n",
       "      <th>context_switch</th>\n",
       "      <th>no_pause_before_play</th>\n",
       "      <th>short_pause_before_play</th>\n",
       "      <th>long_pause_before_play</th>\n",
       "      <th>hist_user_behavior_n_seekfwd</th>\n",
       "      <th>hist_user_behavior_n_seekback</th>\n",
       "      <th>...</th>\n",
       "      <th>enc__hist_user_behavior_reason_start_trackerror</th>\n",
       "      <th>enc__hist_user_behavior_reason_end_backbtn</th>\n",
       "      <th>enc__hist_user_behavior_reason_end_clickrow</th>\n",
       "      <th>enc__hist_user_behavior_reason_end_endplay</th>\n",
       "      <th>enc__hist_user_behavior_reason_end_fwdbtn</th>\n",
       "      <th>enc__hist_user_behavior_reason_end_logout</th>\n",
       "      <th>enc__hist_user_behavior_reason_end_remote</th>\n",
       "      <th>enc__hist_user_behavior_reason_end_trackdone</th>\n",
       "      <th>enc__mode_major</th>\n",
       "      <th>enc__mode_minor</th>\n",
       "    </tr>\n",
       "  </thead>\n",
       "  <tbody>\n",
       "    <tr>\n",
       "      <th>0</th>\n",
       "      <td>0_00006f66-33e5-4de7-a324-2d18e439fc1e</td>\n",
       "      <td>1.000000</td>\n",
       "      <td>20.0</td>\n",
       "      <td>0.000000</td>\n",
       "      <td>0.0</td>\n",
       "      <td>0.000000</td>\n",
       "      <td>0.000000</td>\n",
       "      <td>0.000000</td>\n",
       "      <td>0.0</td>\n",
       "      <td>0.0</td>\n",
       "      <td>...</td>\n",
       "      <td>0.0</td>\n",
       "      <td>0.0</td>\n",
       "      <td>0.0</td>\n",
       "      <td>0.0</td>\n",
       "      <td>0.000000</td>\n",
       "      <td>0.0</td>\n",
       "      <td>0.0</td>\n",
       "      <td>1.000000</td>\n",
       "      <td>1.000000</td>\n",
       "      <td>0.000000</td>\n",
       "    </tr>\n",
       "    <tr>\n",
       "      <th>1</th>\n",
       "      <td>0_00006f66-33e5-4de7-a324-2d18e439fc1e</td>\n",
       "      <td>1.666667</td>\n",
       "      <td>20.0</td>\n",
       "      <td>0.000000</td>\n",
       "      <td>0.0</td>\n",
       "      <td>0.666667</td>\n",
       "      <td>0.000000</td>\n",
       "      <td>0.000000</td>\n",
       "      <td>0.0</td>\n",
       "      <td>0.0</td>\n",
       "      <td>...</td>\n",
       "      <td>0.0</td>\n",
       "      <td>0.0</td>\n",
       "      <td>0.0</td>\n",
       "      <td>0.0</td>\n",
       "      <td>0.000000</td>\n",
       "      <td>0.0</td>\n",
       "      <td>0.0</td>\n",
       "      <td>1.000000</td>\n",
       "      <td>0.333333</td>\n",
       "      <td>0.666667</td>\n",
       "    </tr>\n",
       "    <tr>\n",
       "      <th>2</th>\n",
       "      <td>0_00006f66-33e5-4de7-a324-2d18e439fc1e</td>\n",
       "      <td>2.428571</td>\n",
       "      <td>20.0</td>\n",
       "      <td>0.000000</td>\n",
       "      <td>0.0</td>\n",
       "      <td>0.857143</td>\n",
       "      <td>0.000000</td>\n",
       "      <td>0.000000</td>\n",
       "      <td>0.0</td>\n",
       "      <td>0.0</td>\n",
       "      <td>...</td>\n",
       "      <td>0.0</td>\n",
       "      <td>0.0</td>\n",
       "      <td>0.0</td>\n",
       "      <td>0.0</td>\n",
       "      <td>0.000000</td>\n",
       "      <td>0.0</td>\n",
       "      <td>0.0</td>\n",
       "      <td>1.000000</td>\n",
       "      <td>0.714286</td>\n",
       "      <td>0.285714</td>\n",
       "    </tr>\n",
       "    <tr>\n",
       "      <th>3</th>\n",
       "      <td>0_00006f66-33e5-4de7-a324-2d18e439fc1e</td>\n",
       "      <td>3.266667</td>\n",
       "      <td>20.0</td>\n",
       "      <td>0.000000</td>\n",
       "      <td>0.0</td>\n",
       "      <td>0.933333</td>\n",
       "      <td>0.000000</td>\n",
       "      <td>0.000000</td>\n",
       "      <td>0.0</td>\n",
       "      <td>0.0</td>\n",
       "      <td>...</td>\n",
       "      <td>0.0</td>\n",
       "      <td>0.0</td>\n",
       "      <td>0.0</td>\n",
       "      <td>0.0</td>\n",
       "      <td>0.000000</td>\n",
       "      <td>0.0</td>\n",
       "      <td>0.0</td>\n",
       "      <td>1.000000</td>\n",
       "      <td>0.866667</td>\n",
       "      <td>0.133333</td>\n",
       "    </tr>\n",
       "    <tr>\n",
       "      <th>4</th>\n",
       "      <td>0_00006f66-33e5-4de7-a324-2d18e439fc1e</td>\n",
       "      <td>4.161290</td>\n",
       "      <td>20.0</td>\n",
       "      <td>0.000000</td>\n",
       "      <td>0.0</td>\n",
       "      <td>0.967742</td>\n",
       "      <td>0.000000</td>\n",
       "      <td>0.000000</td>\n",
       "      <td>0.0</td>\n",
       "      <td>0.0</td>\n",
       "      <td>...</td>\n",
       "      <td>0.0</td>\n",
       "      <td>0.0</td>\n",
       "      <td>0.0</td>\n",
       "      <td>0.0</td>\n",
       "      <td>0.000000</td>\n",
       "      <td>0.0</td>\n",
       "      <td>0.0</td>\n",
       "      <td>1.000000</td>\n",
       "      <td>0.935484</td>\n",
       "      <td>0.064516</td>\n",
       "    </tr>\n",
       "    <tr>\n",
       "      <th>...</th>\n",
       "      <td>...</td>\n",
       "      <td>...</td>\n",
       "      <td>...</td>\n",
       "      <td>...</td>\n",
       "      <td>...</td>\n",
       "      <td>...</td>\n",
       "      <td>...</td>\n",
       "      <td>...</td>\n",
       "      <td>...</td>\n",
       "      <td>...</td>\n",
       "      <td>...</td>\n",
       "      <td>...</td>\n",
       "      <td>...</td>\n",
       "      <td>...</td>\n",
       "      <td>...</td>\n",
       "      <td>...</td>\n",
       "      <td>...</td>\n",
       "      <td>...</td>\n",
       "      <td>...</td>\n",
       "      <td>...</td>\n",
       "      <td>...</td>\n",
       "    </tr>\n",
       "    <tr>\n",
       "      <th>167875</th>\n",
       "      <td>0_0eaeef5d-25e9-4429-bd55-af15d3604c9f</td>\n",
       "      <td>15.000244</td>\n",
       "      <td>20.0</td>\n",
       "      <td>0.062501</td>\n",
       "      <td>0.0</td>\n",
       "      <td>0.937453</td>\n",
       "      <td>0.000031</td>\n",
       "      <td>0.062531</td>\n",
       "      <td>0.0</td>\n",
       "      <td>0.0</td>\n",
       "      <td>...</td>\n",
       "      <td>0.0</td>\n",
       "      <td>0.0</td>\n",
       "      <td>0.0</td>\n",
       "      <td>0.0</td>\n",
       "      <td>0.062501</td>\n",
       "      <td>0.0</td>\n",
       "      <td>0.0</td>\n",
       "      <td>0.937499</td>\n",
       "      <td>0.499321</td>\n",
       "      <td>0.500679</td>\n",
       "    </tr>\n",
       "    <tr>\n",
       "      <th>167876</th>\n",
       "      <td>0_0eaeef5d-25e9-4429-bd55-af15d3604c9f</td>\n",
       "      <td>16.000130</td>\n",
       "      <td>20.0</td>\n",
       "      <td>0.031250</td>\n",
       "      <td>0.0</td>\n",
       "      <td>0.968727</td>\n",
       "      <td>0.000015</td>\n",
       "      <td>0.031265</td>\n",
       "      <td>0.0</td>\n",
       "      <td>0.0</td>\n",
       "      <td>...</td>\n",
       "      <td>0.0</td>\n",
       "      <td>0.0</td>\n",
       "      <td>0.0</td>\n",
       "      <td>0.0</td>\n",
       "      <td>0.031250</td>\n",
       "      <td>0.0</td>\n",
       "      <td>0.0</td>\n",
       "      <td>0.968750</td>\n",
       "      <td>0.249659</td>\n",
       "      <td>0.750341</td>\n",
       "    </tr>\n",
       "    <tr>\n",
       "      <th>167877</th>\n",
       "      <td>0_0eaeef5d-25e9-4429-bd55-af15d3604c9f</td>\n",
       "      <td>17.000069</td>\n",
       "      <td>20.0</td>\n",
       "      <td>0.015625</td>\n",
       "      <td>0.0</td>\n",
       "      <td>0.984363</td>\n",
       "      <td>0.000008</td>\n",
       "      <td>0.015633</td>\n",
       "      <td>0.0</td>\n",
       "      <td>0.0</td>\n",
       "      <td>...</td>\n",
       "      <td>0.0</td>\n",
       "      <td>0.0</td>\n",
       "      <td>0.0</td>\n",
       "      <td>0.0</td>\n",
       "      <td>0.015625</td>\n",
       "      <td>0.0</td>\n",
       "      <td>0.0</td>\n",
       "      <td>0.984375</td>\n",
       "      <td>0.624831</td>\n",
       "      <td>0.375169</td>\n",
       "    </tr>\n",
       "    <tr>\n",
       "      <th>167878</th>\n",
       "      <td>0_0eaeef5d-25e9-4429-bd55-af15d3604c9f</td>\n",
       "      <td>18.000036</td>\n",
       "      <td>20.0</td>\n",
       "      <td>0.007813</td>\n",
       "      <td>0.0</td>\n",
       "      <td>0.992182</td>\n",
       "      <td>0.000004</td>\n",
       "      <td>0.007816</td>\n",
       "      <td>0.0</td>\n",
       "      <td>0.0</td>\n",
       "      <td>...</td>\n",
       "      <td>0.0</td>\n",
       "      <td>0.0</td>\n",
       "      <td>0.0</td>\n",
       "      <td>0.0</td>\n",
       "      <td>0.007813</td>\n",
       "      <td>0.0</td>\n",
       "      <td>0.0</td>\n",
       "      <td>0.992187</td>\n",
       "      <td>0.312415</td>\n",
       "      <td>0.687585</td>\n",
       "    </tr>\n",
       "    <tr>\n",
       "      <th>167879</th>\n",
       "      <td>0_0eaeef5d-25e9-4429-bd55-af15d3604c9f</td>\n",
       "      <td>19.000019</td>\n",
       "      <td>20.0</td>\n",
       "      <td>0.003906</td>\n",
       "      <td>0.0</td>\n",
       "      <td>0.996091</td>\n",
       "      <td>0.000002</td>\n",
       "      <td>0.003908</td>\n",
       "      <td>0.0</td>\n",
       "      <td>0.0</td>\n",
       "      <td>...</td>\n",
       "      <td>0.0</td>\n",
       "      <td>0.0</td>\n",
       "      <td>0.0</td>\n",
       "      <td>0.0</td>\n",
       "      <td>0.003906</td>\n",
       "      <td>0.0</td>\n",
       "      <td>0.0</td>\n",
       "      <td>0.996094</td>\n",
       "      <td>0.656208</td>\n",
       "      <td>0.343792</td>\n",
       "    </tr>\n",
       "  </tbody>\n",
       "</table>\n",
       "<p>167880 rows × 68 columns</p>\n",
       "</div>"
      ],
      "text/plain": [
       "                                    session_id  session_position  \\\n",
       "0       0_00006f66-33e5-4de7-a324-2d18e439fc1e          1.000000   \n",
       "1       0_00006f66-33e5-4de7-a324-2d18e439fc1e          1.666667   \n",
       "2       0_00006f66-33e5-4de7-a324-2d18e439fc1e          2.428571   \n",
       "3       0_00006f66-33e5-4de7-a324-2d18e439fc1e          3.266667   \n",
       "4       0_00006f66-33e5-4de7-a324-2d18e439fc1e          4.161290   \n",
       "...                                        ...               ...   \n",
       "167875  0_0eaeef5d-25e9-4429-bd55-af15d3604c9f         15.000244   \n",
       "167876  0_0eaeef5d-25e9-4429-bd55-af15d3604c9f         16.000130   \n",
       "167877  0_0eaeef5d-25e9-4429-bd55-af15d3604c9f         17.000069   \n",
       "167878  0_0eaeef5d-25e9-4429-bd55-af15d3604c9f         18.000036   \n",
       "167879  0_0eaeef5d-25e9-4429-bd55-af15d3604c9f         19.000019   \n",
       "\n",
       "        session_length    skip_2  context_switch  no_pause_before_play  \\\n",
       "0                 20.0  0.000000             0.0              0.000000   \n",
       "1                 20.0  0.000000             0.0              0.666667   \n",
       "2                 20.0  0.000000             0.0              0.857143   \n",
       "3                 20.0  0.000000             0.0              0.933333   \n",
       "4                 20.0  0.000000             0.0              0.967742   \n",
       "...                ...       ...             ...                   ...   \n",
       "167875            20.0  0.062501             0.0              0.937453   \n",
       "167876            20.0  0.031250             0.0              0.968727   \n",
       "167877            20.0  0.015625             0.0              0.984363   \n",
       "167878            20.0  0.007813             0.0              0.992182   \n",
       "167879            20.0  0.003906             0.0              0.996091   \n",
       "\n",
       "        short_pause_before_play  long_pause_before_play  \\\n",
       "0                      0.000000                0.000000   \n",
       "1                      0.000000                0.000000   \n",
       "2                      0.000000                0.000000   \n",
       "3                      0.000000                0.000000   \n",
       "4                      0.000000                0.000000   \n",
       "...                         ...                     ...   \n",
       "167875                 0.000031                0.062531   \n",
       "167876                 0.000015                0.031265   \n",
       "167877                 0.000008                0.015633   \n",
       "167878                 0.000004                0.007816   \n",
       "167879                 0.000002                0.003908   \n",
       "\n",
       "        hist_user_behavior_n_seekfwd  hist_user_behavior_n_seekback  ...  \\\n",
       "0                                0.0                            0.0  ...   \n",
       "1                                0.0                            0.0  ...   \n",
       "2                                0.0                            0.0  ...   \n",
       "3                                0.0                            0.0  ...   \n",
       "4                                0.0                            0.0  ...   \n",
       "...                              ...                            ...  ...   \n",
       "167875                           0.0                            0.0  ...   \n",
       "167876                           0.0                            0.0  ...   \n",
       "167877                           0.0                            0.0  ...   \n",
       "167878                           0.0                            0.0  ...   \n",
       "167879                           0.0                            0.0  ...   \n",
       "\n",
       "        enc__hist_user_behavior_reason_start_trackerror  \\\n",
       "0                                                   0.0   \n",
       "1                                                   0.0   \n",
       "2                                                   0.0   \n",
       "3                                                   0.0   \n",
       "4                                                   0.0   \n",
       "...                                                 ...   \n",
       "167875                                              0.0   \n",
       "167876                                              0.0   \n",
       "167877                                              0.0   \n",
       "167878                                              0.0   \n",
       "167879                                              0.0   \n",
       "\n",
       "        enc__hist_user_behavior_reason_end_backbtn  \\\n",
       "0                                              0.0   \n",
       "1                                              0.0   \n",
       "2                                              0.0   \n",
       "3                                              0.0   \n",
       "4                                              0.0   \n",
       "...                                            ...   \n",
       "167875                                         0.0   \n",
       "167876                                         0.0   \n",
       "167877                                         0.0   \n",
       "167878                                         0.0   \n",
       "167879                                         0.0   \n",
       "\n",
       "        enc__hist_user_behavior_reason_end_clickrow  \\\n",
       "0                                               0.0   \n",
       "1                                               0.0   \n",
       "2                                               0.0   \n",
       "3                                               0.0   \n",
       "4                                               0.0   \n",
       "...                                             ...   \n",
       "167875                                          0.0   \n",
       "167876                                          0.0   \n",
       "167877                                          0.0   \n",
       "167878                                          0.0   \n",
       "167879                                          0.0   \n",
       "\n",
       "        enc__hist_user_behavior_reason_end_endplay  \\\n",
       "0                                              0.0   \n",
       "1                                              0.0   \n",
       "2                                              0.0   \n",
       "3                                              0.0   \n",
       "4                                              0.0   \n",
       "...                                            ...   \n",
       "167875                                         0.0   \n",
       "167876                                         0.0   \n",
       "167877                                         0.0   \n",
       "167878                                         0.0   \n",
       "167879                                         0.0   \n",
       "\n",
       "        enc__hist_user_behavior_reason_end_fwdbtn  \\\n",
       "0                                        0.000000   \n",
       "1                                        0.000000   \n",
       "2                                        0.000000   \n",
       "3                                        0.000000   \n",
       "4                                        0.000000   \n",
       "...                                           ...   \n",
       "167875                                   0.062501   \n",
       "167876                                   0.031250   \n",
       "167877                                   0.015625   \n",
       "167878                                   0.007813   \n",
       "167879                                   0.003906   \n",
       "\n",
       "        enc__hist_user_behavior_reason_end_logout  \\\n",
       "0                                             0.0   \n",
       "1                                             0.0   \n",
       "2                                             0.0   \n",
       "3                                             0.0   \n",
       "4                                             0.0   \n",
       "...                                           ...   \n",
       "167875                                        0.0   \n",
       "167876                                        0.0   \n",
       "167877                                        0.0   \n",
       "167878                                        0.0   \n",
       "167879                                        0.0   \n",
       "\n",
       "        enc__hist_user_behavior_reason_end_remote  \\\n",
       "0                                             0.0   \n",
       "1                                             0.0   \n",
       "2                                             0.0   \n",
       "3                                             0.0   \n",
       "4                                             0.0   \n",
       "...                                           ...   \n",
       "167875                                        0.0   \n",
       "167876                                        0.0   \n",
       "167877                                        0.0   \n",
       "167878                                        0.0   \n",
       "167879                                        0.0   \n",
       "\n",
       "        enc__hist_user_behavior_reason_end_trackdone  enc__mode_major  \\\n",
       "0                                           1.000000         1.000000   \n",
       "1                                           1.000000         0.333333   \n",
       "2                                           1.000000         0.714286   \n",
       "3                                           1.000000         0.866667   \n",
       "4                                           1.000000         0.935484   \n",
       "...                                              ...              ...   \n",
       "167875                                      0.937499         0.499321   \n",
       "167876                                      0.968750         0.249659   \n",
       "167877                                      0.984375         0.624831   \n",
       "167878                                      0.992187         0.312415   \n",
       "167879                                      0.996094         0.656208   \n",
       "\n",
       "        enc__mode_minor  \n",
       "0              0.000000  \n",
       "1              0.666667  \n",
       "2              0.285714  \n",
       "3              0.133333  \n",
       "4              0.064516  \n",
       "...                 ...  \n",
       "167875         0.500679  \n",
       "167876         0.750341  \n",
       "167877         0.375169  \n",
       "167878         0.687585  \n",
       "167879         0.343792  \n",
       "\n",
       "[167880 rows x 68 columns]"
      ]
     },
     "execution_count": 4,
     "metadata": {},
     "output_type": "execute_result"
    }
   ],
   "source": [
    "# Computes the cumulative average of features for all listening sessions in the dataset\n",
    "X1.groupby('session_id', as_index=True).ewm(alpha = 0.5).mean().reset_index().drop('level_1', axis=1)"
   ]
  },
  {
   "cell_type": "code",
   "execution_count": 5,
   "id": "0e961184-f86e-475f-96e0-f8723fae635f",
   "metadata": {},
   "outputs": [
    {
     "name": "stdout",
     "output_type": "stream",
     "text": [
      "Wall time: 8.32 s\n"
     ]
    }
   ],
   "source": [
    "%%time\n",
    "# Will take ~7-8 seconds to run\n",
    "# Calculates the EWMA for features in each listening session\n",
    "# Resets index\n",
    "# Drops 'level_1' column\n",
    "X1 = features.groupby('session_id', as_index=False).ewm(alpha = 0.5).mean().reset_index().drop('level_1', axis=1)\n",
    "\n",
    "# Assigns to X_shifted, will be re-assigned to original dataframe\n",
    "X1_shifted = X1.groupby('session_id')[['skip_2',   \n",
    "                                            'enc__hist_user_behavior_reason_end_backbtn',\n",
    "                                            'enc__hist_user_behavior_reason_end_clickrow',  \n",
    "                                            'enc__hist_user_behavior_reason_end_endplay',  \n",
    "                                            'enc__hist_user_behavior_reason_end_fwdbtn',  \n",
    "                                            'enc__hist_user_behavior_reason_end_logout',\n",
    "                                            'enc__hist_user_behavior_reason_end_remote',  \n",
    "                                            'enc__hist_user_behavior_reason_end_trackdone']].shift()\n",
    "\n",
    "# Re-assigns previous columns to shift columns from above\n",
    "X1 = X1.assign(**X1_shifted.to_dict(orient='series'))\n",
    "\n",
    "# Re-assigns 'session_position' to original value Re: I require the original values so that the model has information about where the track is within the session\n",
    "X1['session_position'] = features['session_position']"
   ]
  },
  {
   "cell_type": "markdown",
   "id": "a6732c9d-beed-46c5-9ac3-3b6599fba0a4",
   "metadata": {},
   "source": [
    "Notes on the transformation above:\n",
    "- `'groupby('session_id')'` was employed to calculate the EWMA average of each feature in the listening session\n",
    "- After EWMA was calculated, the `'skip_2'` and track end behaviour columns were shifted down a row \n",
    "    - If you recall from the previous notebook, I was faced with some data leakage related to both `'skip_2'` and track end behaviour\n",
    "    - `'skip_2'`  was obvious, but the data leakage caused by the track end behaviours was a bit more nuanced\n",
    "    - By shifting the columns down by one row, the current observation is now blind to what it's own skip and track end behaviour, and now sees the EWMA for these features, not include the current track\n",
    "    - In other words, the observation stores information about the EWMA in skip and track end behaviours, on average, how much has the user been skipped, or how have the tracks been ending?\n",
    "- Next I reassigned the `'session_position'` values, to return the column back to the original values, which helps me to maintain the sequential information in the dataset\n",
    "- Finally, I dropped `'session_id'` as this is the final version of the transform dataset, with EWMA as a feature"
   ]
  },
  {
   "cell_type": "code",
   "execution_count": 6,
   "id": "f2b7b9fd-c7a6-4337-9039-dfac3fc26587",
   "metadata": {},
   "outputs": [
    {
     "data": {
      "image/png": "[encoded data removed]",
      "text/plain": [
       "<Figure size 1080x360 with 1 Axes>"
      ]
     },
     "metadata": {},
     "output_type": "display_data"
    }
   ],
   "source": [
    "# New index to shift EWMA plot to reflect a lag\n",
    "new_index = X1[X1['session_id'] == '0_00006f66-33e5-4de7-a324-2d18e439fc1e']['skip_2'].index + 1\n",
    "\n",
    "# Plots 'skip_2' and its EWMA\n",
    "plt.figure()\n",
    "plt.plot(X1[X1['session_id'] == '0_00006f66-33e5-4de7-a324-2d18e439fc1e'][['skip_2']].set_index(new_index), label='EWMA')\n",
    "plt.scatter(main_df[main_df['session_id'] == '0_00006f66-33e5-4de7-a324-2d18e439fc1e']['session_position'],\n",
    "            main_df[main_df['session_id'] == '0_00006f66-33e5-4de7-a324-2d18e439fc1e']['skip_2'], color = 'red', label = 'Skip (0.0 = No, 1.0 = Yes)')\n",
    "plt.title(\"Visualization of EWMA of 'skip_2' across a listening session\")\n",
    "plt.xlabel('Track Number')\n",
    "plt.ylabel('skip_2')\n",
    "plt.legend()\n",
    "plt.xticks(main_df[main_df['session_id'] == '0_00006f66-33e5-4de7-a324-2d18e439fc1e']['session_position'])\n",
    "plt.savefig('skip2_emwa.png')"
   ]
  },
  {
   "cell_type": "markdown",
   "id": "ff91e534-48ce-4b81-9b5d-50c45abac24f",
   "metadata": {},
   "source": [
    "The figure above highlights a stark difference between what we saw in the previous notebook with cumulative average. We can see that the EWMA is more responsive to changes in session behaviour. By weighing observations towards the present time. We get information about the most immediate characteristics of the session, rather than equally weighting each point in time during the listening session. This will be interesting to consider when I train a model on this data.\n",
    "\n",
    "---"
   ]
  },
  {
   "cell_type": "code",
   "execution_count": 7,
   "id": "b0b60c42-1188-4dde-960e-50d1dada39e0",
   "metadata": {},
   "outputs": [
    {
     "data": {
      "image/png": "[encoded data removed]",
      "text/plain": [
       "<Figure size 1080x360 with 1 Axes>"
      ]
     },
     "metadata": {},
     "output_type": "display_data"
    }
   ],
   "source": [
    "# Lines up the EWMA plot\n",
    "new_index = X1[X1['session_id'] == '0_00006f66-33e5-4de7-a324-2d18e439fc1e']['skip_2'].index + 1\n",
    "\n",
    "# Plots 'valence' and its EWMA\n",
    "plt.figure()\n",
    "plt.plot(X1[X1['session_id'] == '0_00006f66-33e5-4de7-a324-2d18e439fc1e'][['valence']].set_index(new_index), label=('EWMA'))\n",
    "plt.scatter(main_df[main_df['session_id'] == '0_00006f66-33e5-4de7-a324-2d18e439fc1e']['session_position'],\n",
    "            main_df[main_df['session_id'] == '0_00006f66-33e5-4de7-a324-2d18e439fc1e']['valence'], color = 'red', label = 'Actual valence score')\n",
    "plt.title(\"Visualization of EWMA of 'valence' across a listening session\")\n",
    "plt.xlabel('Track Number')\n",
    "plt.ylabel('Valence')\n",
    "plt.legend()\n",
    "plt.xticks(main_df[main_df['session_id'] == '0_00006f66-33e5-4de7-a324-2d18e439fc1e']['session_position'])\n",
    "plt.show()"
   ]
  },
  {
   "cell_type": "markdown",
   "id": "b6f6af1e-a643-4791-9934-4af8830055ac",
   "metadata": {},
   "source": [
    "The figure above provides another example of how the EWMA tries to capture the aggregate characteristics of the session. In this case, valence. \n",
    "\n",
    "---"
   ]
  },
  {
   "cell_type": "markdown",
   "id": "4a13d676-ba46-4f57-bbca-1b01035dce6c",
   "metadata": {},
   "source": [
    "### Modelling using EWMA"
   ]
  },
  {
   "cell_type": "code",
   "execution_count": 8,
   "id": "52d60298-ec44-437d-9cac-7a1896900ebe",
   "metadata": {},
   "outputs": [],
   "source": [
    "# Drops 'session_id' column\n",
    "X1.drop('session_id', axis=1, inplace=True)"
   ]
  },
  {
   "cell_type": "markdown",
   "id": "1b3d6b23-eea0-4e4c-8495-8f5cdc1a3bb5",
   "metadata": {},
   "source": [
    "Quick check to see the data I'm working with"
   ]
  },
  {
   "cell_type": "code",
   "execution_count": 9,
   "id": "df090127-07e7-4ec8-932b-0fabfe825e3d",
   "metadata": {},
   "outputs": [
    {
     "data": {
      "text/html": [
       "<div>\n",
       "<style scoped>\n",
       "    .dataframe tbody tr th:only-of-type {\n",
       "        vertical-align: middle;\n",
       "    }\n",
       "\n",
       "    .dataframe tbody tr th {\n",
       "        vertical-align: top;\n",
       "    }\n",
       "\n",
       "    .dataframe thead th {\n",
       "        text-align: right;\n",
       "    }\n",
       "</style>\n",
       "<table border=\"1\" class=\"dataframe\">\n",
       "  <thead>\n",
       "    <tr style=\"text-align: right;\">\n",
       "      <th></th>\n",
       "      <th>session_position</th>\n",
       "      <th>session_length</th>\n",
       "      <th>skip_2</th>\n",
       "      <th>context_switch</th>\n",
       "      <th>no_pause_before_play</th>\n",
       "      <th>short_pause_before_play</th>\n",
       "      <th>long_pause_before_play</th>\n",
       "      <th>hist_user_behavior_n_seekfwd</th>\n",
       "      <th>hist_user_behavior_n_seekback</th>\n",
       "      <th>hist_user_behavior_is_shuffle</th>\n",
       "      <th>...</th>\n",
       "      <th>enc__hist_user_behavior_reason_start_trackerror</th>\n",
       "      <th>enc__hist_user_behavior_reason_end_backbtn</th>\n",
       "      <th>enc__hist_user_behavior_reason_end_clickrow</th>\n",
       "      <th>enc__hist_user_behavior_reason_end_endplay</th>\n",
       "      <th>enc__hist_user_behavior_reason_end_fwdbtn</th>\n",
       "      <th>enc__hist_user_behavior_reason_end_logout</th>\n",
       "      <th>enc__hist_user_behavior_reason_end_remote</th>\n",
       "      <th>enc__hist_user_behavior_reason_end_trackdone</th>\n",
       "      <th>enc__mode_major</th>\n",
       "      <th>enc__mode_minor</th>\n",
       "    </tr>\n",
       "  </thead>\n",
       "  <tbody>\n",
       "    <tr>\n",
       "      <th>0</th>\n",
       "      <td>1</td>\n",
       "      <td>20.0</td>\n",
       "      <td>NaN</td>\n",
       "      <td>0.0</td>\n",
       "      <td>0.000000</td>\n",
       "      <td>0.0</td>\n",
       "      <td>0.0</td>\n",
       "      <td>0.0</td>\n",
       "      <td>0.0</td>\n",
       "      <td>1.0</td>\n",
       "      <td>...</td>\n",
       "      <td>0.0</td>\n",
       "      <td>NaN</td>\n",
       "      <td>NaN</td>\n",
       "      <td>NaN</td>\n",
       "      <td>NaN</td>\n",
       "      <td>NaN</td>\n",
       "      <td>NaN</td>\n",
       "      <td>NaN</td>\n",
       "      <td>1.000000</td>\n",
       "      <td>0.000000</td>\n",
       "    </tr>\n",
       "    <tr>\n",
       "      <th>1</th>\n",
       "      <td>2</td>\n",
       "      <td>20.0</td>\n",
       "      <td>0.0</td>\n",
       "      <td>0.0</td>\n",
       "      <td>0.666667</td>\n",
       "      <td>0.0</td>\n",
       "      <td>0.0</td>\n",
       "      <td>0.0</td>\n",
       "      <td>0.0</td>\n",
       "      <td>1.0</td>\n",
       "      <td>...</td>\n",
       "      <td>0.0</td>\n",
       "      <td>0.0</td>\n",
       "      <td>0.0</td>\n",
       "      <td>0.0</td>\n",
       "      <td>0.0</td>\n",
       "      <td>0.0</td>\n",
       "      <td>0.0</td>\n",
       "      <td>1.0</td>\n",
       "      <td>0.333333</td>\n",
       "      <td>0.666667</td>\n",
       "    </tr>\n",
       "    <tr>\n",
       "      <th>2</th>\n",
       "      <td>3</td>\n",
       "      <td>20.0</td>\n",
       "      <td>0.0</td>\n",
       "      <td>0.0</td>\n",
       "      <td>0.857143</td>\n",
       "      <td>0.0</td>\n",
       "      <td>0.0</td>\n",
       "      <td>0.0</td>\n",
       "      <td>0.0</td>\n",
       "      <td>1.0</td>\n",
       "      <td>...</td>\n",
       "      <td>0.0</td>\n",
       "      <td>0.0</td>\n",
       "      <td>0.0</td>\n",
       "      <td>0.0</td>\n",
       "      <td>0.0</td>\n",
       "      <td>0.0</td>\n",
       "      <td>0.0</td>\n",
       "      <td>1.0</td>\n",
       "      <td>0.714286</td>\n",
       "      <td>0.285714</td>\n",
       "    </tr>\n",
       "    <tr>\n",
       "      <th>3</th>\n",
       "      <td>4</td>\n",
       "      <td>20.0</td>\n",
       "      <td>0.0</td>\n",
       "      <td>0.0</td>\n",
       "      <td>0.933333</td>\n",
       "      <td>0.0</td>\n",
       "      <td>0.0</td>\n",
       "      <td>0.0</td>\n",
       "      <td>0.0</td>\n",
       "      <td>1.0</td>\n",
       "      <td>...</td>\n",
       "      <td>0.0</td>\n",
       "      <td>0.0</td>\n",
       "      <td>0.0</td>\n",
       "      <td>0.0</td>\n",
       "      <td>0.0</td>\n",
       "      <td>0.0</td>\n",
       "      <td>0.0</td>\n",
       "      <td>1.0</td>\n",
       "      <td>0.866667</td>\n",
       "      <td>0.133333</td>\n",
       "    </tr>\n",
       "    <tr>\n",
       "      <th>4</th>\n",
       "      <td>5</td>\n",
       "      <td>20.0</td>\n",
       "      <td>0.0</td>\n",
       "      <td>0.0</td>\n",
       "      <td>0.967742</td>\n",
       "      <td>0.0</td>\n",
       "      <td>0.0</td>\n",
       "      <td>0.0</td>\n",
       "      <td>0.0</td>\n",
       "      <td>1.0</td>\n",
       "      <td>...</td>\n",
       "      <td>0.0</td>\n",
       "      <td>0.0</td>\n",
       "      <td>0.0</td>\n",
       "      <td>0.0</td>\n",
       "      <td>0.0</td>\n",
       "      <td>0.0</td>\n",
       "      <td>0.0</td>\n",
       "      <td>1.0</td>\n",
       "      <td>0.935484</td>\n",
       "      <td>0.064516</td>\n",
       "    </tr>\n",
       "  </tbody>\n",
       "</table>\n",
       "<p>5 rows × 67 columns</p>\n",
       "</div>"
      ],
      "text/plain": [
       "   session_position  session_length  skip_2  context_switch  \\\n",
       "0                 1            20.0     NaN             0.0   \n",
       "1                 2            20.0     0.0             0.0   \n",
       "2                 3            20.0     0.0             0.0   \n",
       "3                 4            20.0     0.0             0.0   \n",
       "4                 5            20.0     0.0             0.0   \n",
       "\n",
       "   no_pause_before_play  short_pause_before_play  long_pause_before_play  \\\n",
       "0              0.000000                      0.0                     0.0   \n",
       "1              0.666667                      0.0                     0.0   \n",
       "2              0.857143                      0.0                     0.0   \n",
       "3              0.933333                      0.0                     0.0   \n",
       "4              0.967742                      0.0                     0.0   \n",
       "\n",
       "   hist_user_behavior_n_seekfwd  hist_user_behavior_n_seekback  \\\n",
       "0                           0.0                            0.0   \n",
       "1                           0.0                            0.0   \n",
       "2                           0.0                            0.0   \n",
       "3                           0.0                            0.0   \n",
       "4                           0.0                            0.0   \n",
       "\n",
       "   hist_user_behavior_is_shuffle  ...  \\\n",
       "0                            1.0  ...   \n",
       "1                            1.0  ...   \n",
       "2                            1.0  ...   \n",
       "3                            1.0  ...   \n",
       "4                            1.0  ...   \n",
       "\n",
       "   enc__hist_user_behavior_reason_start_trackerror  \\\n",
       "0                                              0.0   \n",
       "1                                              0.0   \n",
       "2                                              0.0   \n",
       "3                                              0.0   \n",
       "4                                              0.0   \n",
       "\n",
       "   enc__hist_user_behavior_reason_end_backbtn  \\\n",
       "0                                         NaN   \n",
       "1                                         0.0   \n",
       "2                                         0.0   \n",
       "3                                         0.0   \n",
       "4                                         0.0   \n",
       "\n",
       "   enc__hist_user_behavior_reason_end_clickrow  \\\n",
       "0                                          NaN   \n",
       "1                                          0.0   \n",
       "2                                          0.0   \n",
       "3                                          0.0   \n",
       "4                                          0.0   \n",
       "\n",
       "   enc__hist_user_behavior_reason_end_endplay  \\\n",
       "0                                         NaN   \n",
       "1                                         0.0   \n",
       "2                                         0.0   \n",
       "3                                         0.0   \n",
       "4                                         0.0   \n",
       "\n",
       "   enc__hist_user_behavior_reason_end_fwdbtn  \\\n",
       "0                                        NaN   \n",
       "1                                        0.0   \n",
       "2                                        0.0   \n",
       "3                                        0.0   \n",
       "4                                        0.0   \n",
       "\n",
       "   enc__hist_user_behavior_reason_end_logout  \\\n",
       "0                                        NaN   \n",
       "1                                        0.0   \n",
       "2                                        0.0   \n",
       "3                                        0.0   \n",
       "4                                        0.0   \n",
       "\n",
       "   enc__hist_user_behavior_reason_end_remote  \\\n",
       "0                                        NaN   \n",
       "1                                        0.0   \n",
       "2                                        0.0   \n",
       "3                                        0.0   \n",
       "4                                        0.0   \n",
       "\n",
       "   enc__hist_user_behavior_reason_end_trackdone  enc__mode_major  \\\n",
       "0                                           NaN         1.000000   \n",
       "1                                           1.0         0.333333   \n",
       "2                                           1.0         0.714286   \n",
       "3                                           1.0         0.866667   \n",
       "4                                           1.0         0.935484   \n",
       "\n",
       "   enc__mode_minor  \n",
       "0         0.000000  \n",
       "1         0.666667  \n",
       "2         0.285714  \n",
       "3         0.133333  \n",
       "4         0.064516  \n",
       "\n",
       "[5 rows x 67 columns]"
      ]
     },
     "execution_count": 9,
     "metadata": {},
     "output_type": "execute_result"
    }
   ],
   "source": [
    "X1.head()"
   ]
  },
  {
   "cell_type": "code",
   "execution_count": 10,
   "id": "7c1ead99-d460-498c-aecc-1e9498c37fd3",
   "metadata": {},
   "outputs": [
    {
     "data": {
      "text/html": [
       "<div>\n",
       "<style scoped>\n",
       "    .dataframe tbody tr th:only-of-type {\n",
       "        vertical-align: middle;\n",
       "    }\n",
       "\n",
       "    .dataframe tbody tr th {\n",
       "        vertical-align: top;\n",
       "    }\n",
       "\n",
       "    .dataframe thead th {\n",
       "        text-align: right;\n",
       "    }\n",
       "</style>\n",
       "<table border=\"1\" class=\"dataframe\">\n",
       "  <thead>\n",
       "    <tr style=\"text-align: right;\">\n",
       "      <th></th>\n",
       "      <th>skip_2</th>\n",
       "    </tr>\n",
       "  </thead>\n",
       "  <tbody>\n",
       "    <tr>\n",
       "      <th>0</th>\n",
       "      <td>False</td>\n",
       "    </tr>\n",
       "    <tr>\n",
       "      <th>1</th>\n",
       "      <td>False</td>\n",
       "    </tr>\n",
       "    <tr>\n",
       "      <th>2</th>\n",
       "      <td>False</td>\n",
       "    </tr>\n",
       "    <tr>\n",
       "      <th>3</th>\n",
       "      <td>False</td>\n",
       "    </tr>\n",
       "    <tr>\n",
       "      <th>4</th>\n",
       "      <td>False</td>\n",
       "    </tr>\n",
       "  </tbody>\n",
       "</table>\n",
       "</div>"
      ],
      "text/plain": [
       "   skip_2\n",
       "0   False\n",
       "1   False\n",
       "2   False\n",
       "3   False\n",
       "4   False"
      ]
     },
     "execution_count": 10,
     "metadata": {},
     "output_type": "execute_result"
    }
   ],
   "source": [
    "y.head()"
   ]
  },
  {
   "cell_type": "markdown",
   "id": "231c509c-f151-4d14-a926-b067c8b508ea",
   "metadata": {},
   "source": [
    "### Modelling New Feature with Logit Classifier \n",
    "**Note: The third code cell below this heading will throw an error, proceed to run the cells afterwards to resolve.**"
   ]
  },
  {
   "cell_type": "code",
   "execution_count": 11,
   "id": "a46d7070-b236-480a-9108-95afd23b98de",
   "metadata": {},
   "outputs": [],
   "source": [
    "# Splitting into remainder and test sets\n",
    "X1_remainder, X1_test, y1_remainder, y1_test = \\\n",
    "    train_test_split(X1, y, test_size = 0.2,\n",
    "                     random_state=42)"
   ]
  },
  {
   "cell_type": "code",
   "execution_count": 12,
   "id": "de993ae4-1ac5-4a67-b595-61e8d4f0af15",
   "metadata": {},
   "outputs": [],
   "source": [
    "# Splitting the remainder into train and validation\n",
    "X1_train, X1_validation, y1_train, y1_validation = \\\n",
    "    train_test_split(X1_remainder, y1_remainder, test_size = 0.3,\n",
    "                     random_state=42)"
   ]
  },
  {
   "cell_type": "code",
   "execution_count": 13,
   "id": "b60ef994-cd2f-4e4d-abb1-09c7335dd0c0",
   "metadata": {},
   "outputs": [
    {
     "ename": "ValueError",
     "evalue": "Input contains NaN, infinity or a value too large for dtype('float64').",
     "output_type": "error",
     "traceback": [
      "\u001b[1;31m---------------------------------------------------------------------------\u001b[0m",
      "\u001b[1;31mValueError\u001b[0m                                Traceback (most recent call last)",
      "\u001b[1;32m~\\brainstation\\capstone\\scripts\\at-setup.py\u001b[0m in \u001b[0;36m<module>\u001b[1;34m\u001b[0m\n\u001b[0;32m      3\u001b[0m \u001b[1;33m\u001b[0m\u001b[0m\n\u001b[0;32m      4\u001b[0m \u001b[1;31m# Fits\u001b[0m\u001b[1;33m\u001b[0m\u001b[1;33m\u001b[0m\u001b[0m\n\u001b[1;32m----> 5\u001b[1;33m \u001b[0mlogit\u001b[0m\u001b[1;33m.\u001b[0m\u001b[0mfit\u001b[0m\u001b[1;33m(\u001b[0m\u001b[0mX1_train\u001b[0m\u001b[1;33m,\u001b[0m \u001b[0my1_train\u001b[0m\u001b[1;33m)\u001b[0m\u001b[1;33m\u001b[0m\u001b[1;33m\u001b[0m\u001b[0m\n\u001b[0m\u001b[0;32m      6\u001b[0m \u001b[1;33m\u001b[0m\u001b[0m\n\u001b[0;32m      7\u001b[0m \u001b[1;31m# Scores on train and validation\u001b[0m\u001b[1;33m\u001b[0m\u001b[1;33m\u001b[0m\u001b[0m\n",
      "\u001b[1;32m~\\.conda\\envs\\capstone\\lib\\site-packages\\sklearn\\linear_model\\_logistic.py\u001b[0m in \u001b[0;36mfit\u001b[1;34m(self, X, y, sample_weight)\u001b[0m\n\u001b[0;32m   1506\u001b[0m             \u001b[0m_dtype\u001b[0m \u001b[1;33m=\u001b[0m \u001b[1;33m[\u001b[0m\u001b[0mnp\u001b[0m\u001b[1;33m.\u001b[0m\u001b[0mfloat64\u001b[0m\u001b[1;33m,\u001b[0m \u001b[0mnp\u001b[0m\u001b[1;33m.\u001b[0m\u001b[0mfloat32\u001b[0m\u001b[1;33m]\u001b[0m\u001b[1;33m\u001b[0m\u001b[1;33m\u001b[0m\u001b[0m\n\u001b[0;32m   1507\u001b[0m \u001b[1;33m\u001b[0m\u001b[0m\n\u001b[1;32m-> 1508\u001b[1;33m         X, y = self._validate_data(\n\u001b[0m\u001b[0;32m   1509\u001b[0m             \u001b[0mX\u001b[0m\u001b[1;33m,\u001b[0m\u001b[1;33m\u001b[0m\u001b[1;33m\u001b[0m\u001b[0m\n\u001b[0;32m   1510\u001b[0m             \u001b[0my\u001b[0m\u001b[1;33m,\u001b[0m\u001b[1;33m\u001b[0m\u001b[1;33m\u001b[0m\u001b[0m\n",
      "\u001b[1;32m~\\.conda\\envs\\capstone\\lib\\site-packages\\sklearn\\base.py\u001b[0m in \u001b[0;36m_validate_data\u001b[1;34m(self, X, y, reset, validate_separately, **check_params)\u001b[0m\n\u001b[0;32m    579\u001b[0m                 \u001b[0my\u001b[0m \u001b[1;33m=\u001b[0m \u001b[0mcheck_array\u001b[0m\u001b[1;33m(\u001b[0m\u001b[0my\u001b[0m\u001b[1;33m,\u001b[0m \u001b[1;33m**\u001b[0m\u001b[0mcheck_y_params\u001b[0m\u001b[1;33m)\u001b[0m\u001b[1;33m\u001b[0m\u001b[1;33m\u001b[0m\u001b[0m\n\u001b[0;32m    580\u001b[0m             \u001b[1;32melse\u001b[0m\u001b[1;33m:\u001b[0m\u001b[1;33m\u001b[0m\u001b[1;33m\u001b[0m\u001b[0m\n\u001b[1;32m--> 581\u001b[1;33m                 \u001b[0mX\u001b[0m\u001b[1;33m,\u001b[0m \u001b[0my\u001b[0m \u001b[1;33m=\u001b[0m \u001b[0mcheck_X_y\u001b[0m\u001b[1;33m(\u001b[0m\u001b[0mX\u001b[0m\u001b[1;33m,\u001b[0m \u001b[0my\u001b[0m\u001b[1;33m,\u001b[0m \u001b[1;33m**\u001b[0m\u001b[0mcheck_params\u001b[0m\u001b[1;33m)\u001b[0m\u001b[1;33m\u001b[0m\u001b[1;33m\u001b[0m\u001b[0m\n\u001b[0m\u001b[0;32m    582\u001b[0m             \u001b[0mout\u001b[0m \u001b[1;33m=\u001b[0m \u001b[0mX\u001b[0m\u001b[1;33m,\u001b[0m \u001b[0my\u001b[0m\u001b[1;33m\u001b[0m\u001b[1;33m\u001b[0m\u001b[0m\n\u001b[0;32m    583\u001b[0m \u001b[1;33m\u001b[0m\u001b[0m\n",
      "\u001b[1;32m~\\.conda\\envs\\capstone\\lib\\site-packages\\sklearn\\utils\\validation.py\u001b[0m in \u001b[0;36mcheck_X_y\u001b[1;34m(X, y, accept_sparse, accept_large_sparse, dtype, order, copy, force_all_finite, ensure_2d, allow_nd, multi_output, ensure_min_samples, ensure_min_features, y_numeric, estimator)\u001b[0m\n\u001b[0;32m    962\u001b[0m         \u001b[1;32mraise\u001b[0m \u001b[0mValueError\u001b[0m\u001b[1;33m(\u001b[0m\u001b[1;34m\"y cannot be None\"\u001b[0m\u001b[1;33m)\u001b[0m\u001b[1;33m\u001b[0m\u001b[1;33m\u001b[0m\u001b[0m\n\u001b[0;32m    963\u001b[0m \u001b[1;33m\u001b[0m\u001b[0m\n\u001b[1;32m--> 964\u001b[1;33m     X = check_array(\n\u001b[0m\u001b[0;32m    965\u001b[0m         \u001b[0mX\u001b[0m\u001b[1;33m,\u001b[0m\u001b[1;33m\u001b[0m\u001b[1;33m\u001b[0m\u001b[0m\n\u001b[0;32m    966\u001b[0m         \u001b[0maccept_sparse\u001b[0m\u001b[1;33m=\u001b[0m\u001b[0maccept_sparse\u001b[0m\u001b[1;33m,\u001b[0m\u001b[1;33m\u001b[0m\u001b[1;33m\u001b[0m\u001b[0m\n",
      "\u001b[1;32m~\\.conda\\envs\\capstone\\lib\\site-packages\\sklearn\\utils\\validation.py\u001b[0m in \u001b[0;36mcheck_array\u001b[1;34m(array, accept_sparse, accept_large_sparse, dtype, order, copy, force_all_finite, ensure_2d, allow_nd, ensure_min_samples, ensure_min_features, estimator)\u001b[0m\n\u001b[0;32m    798\u001b[0m \u001b[1;33m\u001b[0m\u001b[0m\n\u001b[0;32m    799\u001b[0m         \u001b[1;32mif\u001b[0m \u001b[0mforce_all_finite\u001b[0m\u001b[1;33m:\u001b[0m\u001b[1;33m\u001b[0m\u001b[1;33m\u001b[0m\u001b[0m\n\u001b[1;32m--> 800\u001b[1;33m             \u001b[0m_assert_all_finite\u001b[0m\u001b[1;33m(\u001b[0m\u001b[0marray\u001b[0m\u001b[1;33m,\u001b[0m \u001b[0mallow_nan\u001b[0m\u001b[1;33m=\u001b[0m\u001b[0mforce_all_finite\u001b[0m \u001b[1;33m==\u001b[0m \u001b[1;34m\"allow-nan\"\u001b[0m\u001b[1;33m)\u001b[0m\u001b[1;33m\u001b[0m\u001b[1;33m\u001b[0m\u001b[0m\n\u001b[0m\u001b[0;32m    801\u001b[0m \u001b[1;33m\u001b[0m\u001b[0m\n\u001b[0;32m    802\u001b[0m     \u001b[1;32mif\u001b[0m \u001b[0mensure_min_samples\u001b[0m \u001b[1;33m>\u001b[0m \u001b[1;36m0\u001b[0m\u001b[1;33m:\u001b[0m\u001b[1;33m\u001b[0m\u001b[1;33m\u001b[0m\u001b[0m\n",
      "\u001b[1;32m~\\.conda\\envs\\capstone\\lib\\site-packages\\sklearn\\utils\\validation.py\u001b[0m in \u001b[0;36m_assert_all_finite\u001b[1;34m(X, allow_nan, msg_dtype)\u001b[0m\n\u001b[0;32m    112\u001b[0m         ):\n\u001b[0;32m    113\u001b[0m             \u001b[0mtype_err\u001b[0m \u001b[1;33m=\u001b[0m \u001b[1;34m\"infinity\"\u001b[0m \u001b[1;32mif\u001b[0m \u001b[0mallow_nan\u001b[0m \u001b[1;32melse\u001b[0m \u001b[1;34m\"NaN, infinity\"\u001b[0m\u001b[1;33m\u001b[0m\u001b[1;33m\u001b[0m\u001b[0m\n\u001b[1;32m--> 114\u001b[1;33m             raise ValueError(\n\u001b[0m\u001b[0;32m    115\u001b[0m                 msg_err.format(\n\u001b[0;32m    116\u001b[0m                     \u001b[0mtype_err\u001b[0m\u001b[1;33m,\u001b[0m \u001b[0mmsg_dtype\u001b[0m \u001b[1;32mif\u001b[0m \u001b[0mmsg_dtype\u001b[0m \u001b[1;32mis\u001b[0m \u001b[1;32mnot\u001b[0m \u001b[1;32mNone\u001b[0m \u001b[1;32melse\u001b[0m \u001b[0mX\u001b[0m\u001b[1;33m.\u001b[0m\u001b[0mdtype\u001b[0m\u001b[1;33m\u001b[0m\u001b[1;33m\u001b[0m\u001b[0m\n",
      "\u001b[1;31mValueError\u001b[0m: Input contains NaN, infinity or a value too large for dtype('float64')."
     ]
    }
   ],
   "source": [
    "# Instantiates Logit\n",
    "logit = LogisticRegression(max_iter=500, verbose=1, n_jobs=-1)\n",
    "\n",
    "# Fits\n",
    "logit.fit(X1_train, y1_train)\n",
    "\n",
    "# Scores on train and validation\n",
    "print(logit.score(X1_train, y1_train))\n",
    "print(logit.score(X1_validation, y1_validation))"
   ]
  },
  {
   "cell_type": "markdown",
   "id": "4b810dfa-0aa8-4bd9-9ee9-fba16525b239",
   "metadata": {},
   "source": [
    "There are NaNs in the data. This was caused by the column staggers I employed to reduce the likelihood of data leakage. I'll make an important assumption here. I'll begin the predictions at the second track of every session. Rather than at the first track. "
   ]
  },
  {
   "cell_type": "code",
   "execution_count": 14,
   "id": "fefcacaf-40d0-489e-af87-35256935a3c7",
   "metadata": {},
   "outputs": [
    {
     "data": {
      "text/html": [
       "<div>\n",
       "<style scoped>\n",
       "    .dataframe tbody tr th:only-of-type {\n",
       "        vertical-align: middle;\n",
       "    }\n",
       "\n",
       "    .dataframe tbody tr th {\n",
       "        vertical-align: top;\n",
       "    }\n",
       "\n",
       "    .dataframe thead th {\n",
       "        text-align: right;\n",
       "    }\n",
       "</style>\n",
       "<table border=\"1\" class=\"dataframe\">\n",
       "  <thead>\n",
       "    <tr style=\"text-align: right;\">\n",
       "      <th></th>\n",
       "      <th>session_position</th>\n",
       "      <th>session_length</th>\n",
       "      <th>skip_2</th>\n",
       "      <th>context_switch</th>\n",
       "      <th>no_pause_before_play</th>\n",
       "      <th>short_pause_before_play</th>\n",
       "      <th>long_pause_before_play</th>\n",
       "      <th>hist_user_behavior_n_seekfwd</th>\n",
       "      <th>hist_user_behavior_n_seekback</th>\n",
       "      <th>hist_user_behavior_is_shuffle</th>\n",
       "      <th>...</th>\n",
       "      <th>enc__hist_user_behavior_reason_start_trackerror</th>\n",
       "      <th>enc__hist_user_behavior_reason_end_backbtn</th>\n",
       "      <th>enc__hist_user_behavior_reason_end_clickrow</th>\n",
       "      <th>enc__hist_user_behavior_reason_end_endplay</th>\n",
       "      <th>enc__hist_user_behavior_reason_end_fwdbtn</th>\n",
       "      <th>enc__hist_user_behavior_reason_end_logout</th>\n",
       "      <th>enc__hist_user_behavior_reason_end_remote</th>\n",
       "      <th>enc__hist_user_behavior_reason_end_trackdone</th>\n",
       "      <th>enc__mode_major</th>\n",
       "      <th>enc__mode_minor</th>\n",
       "    </tr>\n",
       "  </thead>\n",
       "  <tbody>\n",
       "    <tr>\n",
       "      <th>0</th>\n",
       "      <td>1</td>\n",
       "      <td>20.0</td>\n",
       "      <td>NaN</td>\n",
       "      <td>0.0</td>\n",
       "      <td>0.0</td>\n",
       "      <td>0.0</td>\n",
       "      <td>0.0</td>\n",
       "      <td>0.0</td>\n",
       "      <td>0.0</td>\n",
       "      <td>1.0</td>\n",
       "      <td>...</td>\n",
       "      <td>0.0</td>\n",
       "      <td>NaN</td>\n",
       "      <td>NaN</td>\n",
       "      <td>NaN</td>\n",
       "      <td>NaN</td>\n",
       "      <td>NaN</td>\n",
       "      <td>NaN</td>\n",
       "      <td>NaN</td>\n",
       "      <td>1.0</td>\n",
       "      <td>0.0</td>\n",
       "    </tr>\n",
       "    <tr>\n",
       "      <th>20</th>\n",
       "      <td>1</td>\n",
       "      <td>20.0</td>\n",
       "      <td>NaN</td>\n",
       "      <td>0.0</td>\n",
       "      <td>0.0</td>\n",
       "      <td>0.0</td>\n",
       "      <td>0.0</td>\n",
       "      <td>0.0</td>\n",
       "      <td>1.0</td>\n",
       "      <td>1.0</td>\n",
       "      <td>...</td>\n",
       "      <td>0.0</td>\n",
       "      <td>NaN</td>\n",
       "      <td>NaN</td>\n",
       "      <td>NaN</td>\n",
       "      <td>NaN</td>\n",
       "      <td>NaN</td>\n",
       "      <td>NaN</td>\n",
       "      <td>NaN</td>\n",
       "      <td>1.0</td>\n",
       "      <td>0.0</td>\n",
       "    </tr>\n",
       "    <tr>\n",
       "      <th>40</th>\n",
       "      <td>1</td>\n",
       "      <td>20.0</td>\n",
       "      <td>NaN</td>\n",
       "      <td>0.0</td>\n",
       "      <td>0.0</td>\n",
       "      <td>0.0</td>\n",
       "      <td>0.0</td>\n",
       "      <td>0.0</td>\n",
       "      <td>0.0</td>\n",
       "      <td>0.0</td>\n",
       "      <td>...</td>\n",
       "      <td>0.0</td>\n",
       "      <td>NaN</td>\n",
       "      <td>NaN</td>\n",
       "      <td>NaN</td>\n",
       "      <td>NaN</td>\n",
       "      <td>NaN</td>\n",
       "      <td>NaN</td>\n",
       "      <td>NaN</td>\n",
       "      <td>0.0</td>\n",
       "      <td>1.0</td>\n",
       "    </tr>\n",
       "    <tr>\n",
       "      <th>60</th>\n",
       "      <td>1</td>\n",
       "      <td>20.0</td>\n",
       "      <td>NaN</td>\n",
       "      <td>0.0</td>\n",
       "      <td>0.0</td>\n",
       "      <td>0.0</td>\n",
       "      <td>0.0</td>\n",
       "      <td>0.0</td>\n",
       "      <td>0.0</td>\n",
       "      <td>0.0</td>\n",
       "      <td>...</td>\n",
       "      <td>0.0</td>\n",
       "      <td>NaN</td>\n",
       "      <td>NaN</td>\n",
       "      <td>NaN</td>\n",
       "      <td>NaN</td>\n",
       "      <td>NaN</td>\n",
       "      <td>NaN</td>\n",
       "      <td>NaN</td>\n",
       "      <td>0.0</td>\n",
       "      <td>1.0</td>\n",
       "    </tr>\n",
       "    <tr>\n",
       "      <th>80</th>\n",
       "      <td>1</td>\n",
       "      <td>11.0</td>\n",
       "      <td>NaN</td>\n",
       "      <td>0.0</td>\n",
       "      <td>0.0</td>\n",
       "      <td>0.0</td>\n",
       "      <td>0.0</td>\n",
       "      <td>0.0</td>\n",
       "      <td>0.0</td>\n",
       "      <td>1.0</td>\n",
       "      <td>...</td>\n",
       "      <td>0.0</td>\n",
       "      <td>NaN</td>\n",
       "      <td>NaN</td>\n",
       "      <td>NaN</td>\n",
       "      <td>NaN</td>\n",
       "      <td>NaN</td>\n",
       "      <td>NaN</td>\n",
       "      <td>NaN</td>\n",
       "      <td>1.0</td>\n",
       "      <td>0.0</td>\n",
       "    </tr>\n",
       "    <tr>\n",
       "      <th>...</th>\n",
       "      <td>...</td>\n",
       "      <td>...</td>\n",
       "      <td>...</td>\n",
       "      <td>...</td>\n",
       "      <td>...</td>\n",
       "      <td>...</td>\n",
       "      <td>...</td>\n",
       "      <td>...</td>\n",
       "      <td>...</td>\n",
       "      <td>...</td>\n",
       "      <td>...</td>\n",
       "      <td>...</td>\n",
       "      <td>...</td>\n",
       "      <td>...</td>\n",
       "      <td>...</td>\n",
       "      <td>...</td>\n",
       "      <td>...</td>\n",
       "      <td>...</td>\n",
       "      <td>...</td>\n",
       "      <td>...</td>\n",
       "      <td>...</td>\n",
       "    </tr>\n",
       "    <tr>\n",
       "      <th>167788</th>\n",
       "      <td>1</td>\n",
       "      <td>20.0</td>\n",
       "      <td>NaN</td>\n",
       "      <td>0.0</td>\n",
       "      <td>0.0</td>\n",
       "      <td>0.0</td>\n",
       "      <td>0.0</td>\n",
       "      <td>0.0</td>\n",
       "      <td>0.0</td>\n",
       "      <td>1.0</td>\n",
       "      <td>...</td>\n",
       "      <td>0.0</td>\n",
       "      <td>NaN</td>\n",
       "      <td>NaN</td>\n",
       "      <td>NaN</td>\n",
       "      <td>NaN</td>\n",
       "      <td>NaN</td>\n",
       "      <td>NaN</td>\n",
       "      <td>NaN</td>\n",
       "      <td>1.0</td>\n",
       "      <td>0.0</td>\n",
       "    </tr>\n",
       "    <tr>\n",
       "      <th>167808</th>\n",
       "      <td>1</td>\n",
       "      <td>20.0</td>\n",
       "      <td>NaN</td>\n",
       "      <td>0.0</td>\n",
       "      <td>0.0</td>\n",
       "      <td>0.0</td>\n",
       "      <td>0.0</td>\n",
       "      <td>0.0</td>\n",
       "      <td>1.0</td>\n",
       "      <td>0.0</td>\n",
       "      <td>...</td>\n",
       "      <td>0.0</td>\n",
       "      <td>NaN</td>\n",
       "      <td>NaN</td>\n",
       "      <td>NaN</td>\n",
       "      <td>NaN</td>\n",
       "      <td>NaN</td>\n",
       "      <td>NaN</td>\n",
       "      <td>NaN</td>\n",
       "      <td>0.0</td>\n",
       "      <td>1.0</td>\n",
       "    </tr>\n",
       "    <tr>\n",
       "      <th>167828</th>\n",
       "      <td>1</td>\n",
       "      <td>20.0</td>\n",
       "      <td>NaN</td>\n",
       "      <td>0.0</td>\n",
       "      <td>0.0</td>\n",
       "      <td>0.0</td>\n",
       "      <td>0.0</td>\n",
       "      <td>0.0</td>\n",
       "      <td>0.0</td>\n",
       "      <td>1.0</td>\n",
       "      <td>...</td>\n",
       "      <td>0.0</td>\n",
       "      <td>NaN</td>\n",
       "      <td>NaN</td>\n",
       "      <td>NaN</td>\n",
       "      <td>NaN</td>\n",
       "      <td>NaN</td>\n",
       "      <td>NaN</td>\n",
       "      <td>NaN</td>\n",
       "      <td>0.0</td>\n",
       "      <td>1.0</td>\n",
       "    </tr>\n",
       "    <tr>\n",
       "      <th>167848</th>\n",
       "      <td>1</td>\n",
       "      <td>12.0</td>\n",
       "      <td>NaN</td>\n",
       "      <td>0.0</td>\n",
       "      <td>0.0</td>\n",
       "      <td>0.0</td>\n",
       "      <td>0.0</td>\n",
       "      <td>0.0</td>\n",
       "      <td>0.0</td>\n",
       "      <td>0.0</td>\n",
       "      <td>...</td>\n",
       "      <td>0.0</td>\n",
       "      <td>NaN</td>\n",
       "      <td>NaN</td>\n",
       "      <td>NaN</td>\n",
       "      <td>NaN</td>\n",
       "      <td>NaN</td>\n",
       "      <td>NaN</td>\n",
       "      <td>NaN</td>\n",
       "      <td>1.0</td>\n",
       "      <td>0.0</td>\n",
       "    </tr>\n",
       "    <tr>\n",
       "      <th>167860</th>\n",
       "      <td>1</td>\n",
       "      <td>20.0</td>\n",
       "      <td>NaN</td>\n",
       "      <td>0.0</td>\n",
       "      <td>0.0</td>\n",
       "      <td>0.0</td>\n",
       "      <td>0.0</td>\n",
       "      <td>0.0</td>\n",
       "      <td>0.0</td>\n",
       "      <td>0.0</td>\n",
       "      <td>...</td>\n",
       "      <td>0.0</td>\n",
       "      <td>NaN</td>\n",
       "      <td>NaN</td>\n",
       "      <td>NaN</td>\n",
       "      <td>NaN</td>\n",
       "      <td>NaN</td>\n",
       "      <td>NaN</td>\n",
       "      <td>NaN</td>\n",
       "      <td>1.0</td>\n",
       "      <td>0.0</td>\n",
       "    </tr>\n",
       "  </tbody>\n",
       "</table>\n",
       "<p>10000 rows × 67 columns</p>\n",
       "</div>"
      ],
      "text/plain": [
       "        session_position  session_length  skip_2  context_switch  \\\n",
       "0                      1            20.0     NaN             0.0   \n",
       "20                     1            20.0     NaN             0.0   \n",
       "40                     1            20.0     NaN             0.0   \n",
       "60                     1            20.0     NaN             0.0   \n",
       "80                     1            11.0     NaN             0.0   \n",
       "...                  ...             ...     ...             ...   \n",
       "167788                 1            20.0     NaN             0.0   \n",
       "167808                 1            20.0     NaN             0.0   \n",
       "167828                 1            20.0     NaN             0.0   \n",
       "167848                 1            12.0     NaN             0.0   \n",
       "167860                 1            20.0     NaN             0.0   \n",
       "\n",
       "        no_pause_before_play  short_pause_before_play  long_pause_before_play  \\\n",
       "0                        0.0                      0.0                     0.0   \n",
       "20                       0.0                      0.0                     0.0   \n",
       "40                       0.0                      0.0                     0.0   \n",
       "60                       0.0                      0.0                     0.0   \n",
       "80                       0.0                      0.0                     0.0   \n",
       "...                      ...                      ...                     ...   \n",
       "167788                   0.0                      0.0                     0.0   \n",
       "167808                   0.0                      0.0                     0.0   \n",
       "167828                   0.0                      0.0                     0.0   \n",
       "167848                   0.0                      0.0                     0.0   \n",
       "167860                   0.0                      0.0                     0.0   \n",
       "\n",
       "        hist_user_behavior_n_seekfwd  hist_user_behavior_n_seekback  \\\n",
       "0                                0.0                            0.0   \n",
       "20                               0.0                            1.0   \n",
       "40                               0.0                            0.0   \n",
       "60                               0.0                            0.0   \n",
       "80                               0.0                            0.0   \n",
       "...                              ...                            ...   \n",
       "167788                           0.0                            0.0   \n",
       "167808                           0.0                            1.0   \n",
       "167828                           0.0                            0.0   \n",
       "167848                           0.0                            0.0   \n",
       "167860                           0.0                            0.0   \n",
       "\n",
       "        hist_user_behavior_is_shuffle  ...  \\\n",
       "0                                 1.0  ...   \n",
       "20                                1.0  ...   \n",
       "40                                0.0  ...   \n",
       "60                                0.0  ...   \n",
       "80                                1.0  ...   \n",
       "...                               ...  ...   \n",
       "167788                            1.0  ...   \n",
       "167808                            0.0  ...   \n",
       "167828                            1.0  ...   \n",
       "167848                            0.0  ...   \n",
       "167860                            0.0  ...   \n",
       "\n",
       "        enc__hist_user_behavior_reason_start_trackerror  \\\n",
       "0                                                   0.0   \n",
       "20                                                  0.0   \n",
       "40                                                  0.0   \n",
       "60                                                  0.0   \n",
       "80                                                  0.0   \n",
       "...                                                 ...   \n",
       "167788                                              0.0   \n",
       "167808                                              0.0   \n",
       "167828                                              0.0   \n",
       "167848                                              0.0   \n",
       "167860                                              0.0   \n",
       "\n",
       "        enc__hist_user_behavior_reason_end_backbtn  \\\n",
       "0                                              NaN   \n",
       "20                                             NaN   \n",
       "40                                             NaN   \n",
       "60                                             NaN   \n",
       "80                                             NaN   \n",
       "...                                            ...   \n",
       "167788                                         NaN   \n",
       "167808                                         NaN   \n",
       "167828                                         NaN   \n",
       "167848                                         NaN   \n",
       "167860                                         NaN   \n",
       "\n",
       "        enc__hist_user_behavior_reason_end_clickrow  \\\n",
       "0                                               NaN   \n",
       "20                                              NaN   \n",
       "40                                              NaN   \n",
       "60                                              NaN   \n",
       "80                                              NaN   \n",
       "...                                             ...   \n",
       "167788                                          NaN   \n",
       "167808                                          NaN   \n",
       "167828                                          NaN   \n",
       "167848                                          NaN   \n",
       "167860                                          NaN   \n",
       "\n",
       "        enc__hist_user_behavior_reason_end_endplay  \\\n",
       "0                                              NaN   \n",
       "20                                             NaN   \n",
       "40                                             NaN   \n",
       "60                                             NaN   \n",
       "80                                             NaN   \n",
       "...                                            ...   \n",
       "167788                                         NaN   \n",
       "167808                                         NaN   \n",
       "167828                                         NaN   \n",
       "167848                                         NaN   \n",
       "167860                                         NaN   \n",
       "\n",
       "        enc__hist_user_behavior_reason_end_fwdbtn  \\\n",
       "0                                             NaN   \n",
       "20                                            NaN   \n",
       "40                                            NaN   \n",
       "60                                            NaN   \n",
       "80                                            NaN   \n",
       "...                                           ...   \n",
       "167788                                        NaN   \n",
       "167808                                        NaN   \n",
       "167828                                        NaN   \n",
       "167848                                        NaN   \n",
       "167860                                        NaN   \n",
       "\n",
       "        enc__hist_user_behavior_reason_end_logout  \\\n",
       "0                                             NaN   \n",
       "20                                            NaN   \n",
       "40                                            NaN   \n",
       "60                                            NaN   \n",
       "80                                            NaN   \n",
       "...                                           ...   \n",
       "167788                                        NaN   \n",
       "167808                                        NaN   \n",
       "167828                                        NaN   \n",
       "167848                                        NaN   \n",
       "167860                                        NaN   \n",
       "\n",
       "        enc__hist_user_behavior_reason_end_remote  \\\n",
       "0                                             NaN   \n",
       "20                                            NaN   \n",
       "40                                            NaN   \n",
       "60                                            NaN   \n",
       "80                                            NaN   \n",
       "...                                           ...   \n",
       "167788                                        NaN   \n",
       "167808                                        NaN   \n",
       "167828                                        NaN   \n",
       "167848                                        NaN   \n",
       "167860                                        NaN   \n",
       "\n",
       "        enc__hist_user_behavior_reason_end_trackdone  enc__mode_major  \\\n",
       "0                                                NaN              1.0   \n",
       "20                                               NaN              1.0   \n",
       "40                                               NaN              0.0   \n",
       "60                                               NaN              0.0   \n",
       "80                                               NaN              1.0   \n",
       "...                                              ...              ...   \n",
       "167788                                           NaN              1.0   \n",
       "167808                                           NaN              0.0   \n",
       "167828                                           NaN              0.0   \n",
       "167848                                           NaN              1.0   \n",
       "167860                                           NaN              1.0   \n",
       "\n",
       "        enc__mode_minor  \n",
       "0                   0.0  \n",
       "20                  0.0  \n",
       "40                  1.0  \n",
       "60                  1.0  \n",
       "80                  0.0  \n",
       "...                 ...  \n",
       "167788              0.0  \n",
       "167808              1.0  \n",
       "167828              1.0  \n",
       "167848              0.0  \n",
       "167860              0.0  \n",
       "\n",
       "[10000 rows x 67 columns]"
      ]
     },
     "execution_count": 14,
     "metadata": {},
     "output_type": "execute_result"
    }
   ],
   "source": [
    "X1[X1['session_position'] == 1]"
   ]
  },
  {
   "cell_type": "markdown",
   "id": "1547f391-5d80-4b3c-b0cf-4fb6ef9a1d57",
   "metadata": {},
   "source": [
    "The cell output above returns each of the first tracks in every listening session in the dataset. If you remember, I had shifted the `'skip_2'` to prevent data leakage. As a result I cannot predict first track skip due to the presence of missing values. An assumption I'll make here is that I will begin predictions at the second track. So we'll remove the first tracks from the dataset."
   ]
  },
  {
   "cell_type": "code",
   "execution_count": 15,
   "id": "60bfb9ed-4358-47b3-8078-26f58c00547c",
   "metadata": {},
   "outputs": [
    {
     "data": {
      "text/plain": [
       "Int64Index([     0,     20,     40,     60,     80,     91,    106,    121,\n",
       "               141,    161,\n",
       "            ...\n",
       "            167702, 167722, 167742, 167754, 167774, 167788, 167808, 167828,\n",
       "            167848, 167860],\n",
       "           dtype='int64', length=10000)"
      ]
     },
     "execution_count": 15,
     "metadata": {},
     "output_type": "execute_result"
    }
   ],
   "source": [
    "# Sanity check, seeing what the mask used for dropping first tracks looks like\n",
    "X1[X1['session_position'] == 1].index"
   ]
  },
  {
   "cell_type": "markdown",
   "id": "519abca1-3c3c-4342-8ef2-e467cd7c69f5",
   "metadata": {},
   "source": [
    "This means the target variable also needs to be transformed."
   ]
  },
  {
   "cell_type": "code",
   "execution_count": 16,
   "id": "668bdf68-78cb-4cc9-a085-fa6edb7057e5",
   "metadata": {},
   "outputs": [],
   "source": [
    "# Drops first songs in target variable using the mask from dropping first songs in X1\n",
    "y.drop(X1[X1['session_position'] == 1].index, inplace=True)"
   ]
  },
  {
   "cell_type": "code",
   "execution_count": 17,
   "id": "c5a766dc-40cd-4eda-93fa-b4c6bb38781e",
   "metadata": {},
   "outputs": [],
   "source": [
    "# Drops the first song of each listening session\n",
    "X1.drop(X1[X1['session_position'] == 1].index, inplace=True)"
   ]
  },
  {
   "cell_type": "code",
   "execution_count": 18,
   "id": "bcb6aa2e-e170-481b-8634-cfa6e31d1c15",
   "metadata": {},
   "outputs": [
    {
     "data": {
      "text/html": [
       "<div>\n",
       "<style scoped>\n",
       "    .dataframe tbody tr th:only-of-type {\n",
       "        vertical-align: middle;\n",
       "    }\n",
       "\n",
       "    .dataframe tbody tr th {\n",
       "        vertical-align: top;\n",
       "    }\n",
       "\n",
       "    .dataframe thead th {\n",
       "        text-align: right;\n",
       "    }\n",
       "</style>\n",
       "<table border=\"1\" class=\"dataframe\">\n",
       "  <thead>\n",
       "    <tr style=\"text-align: right;\">\n",
       "      <th></th>\n",
       "      <th>session_position</th>\n",
       "      <th>session_length</th>\n",
       "      <th>skip_2</th>\n",
       "      <th>context_switch</th>\n",
       "      <th>no_pause_before_play</th>\n",
       "      <th>short_pause_before_play</th>\n",
       "      <th>long_pause_before_play</th>\n",
       "      <th>hist_user_behavior_n_seekfwd</th>\n",
       "      <th>hist_user_behavior_n_seekback</th>\n",
       "      <th>hist_user_behavior_is_shuffle</th>\n",
       "      <th>...</th>\n",
       "      <th>enc__hist_user_behavior_reason_start_trackerror</th>\n",
       "      <th>enc__hist_user_behavior_reason_end_backbtn</th>\n",
       "      <th>enc__hist_user_behavior_reason_end_clickrow</th>\n",
       "      <th>enc__hist_user_behavior_reason_end_endplay</th>\n",
       "      <th>enc__hist_user_behavior_reason_end_fwdbtn</th>\n",
       "      <th>enc__hist_user_behavior_reason_end_logout</th>\n",
       "      <th>enc__hist_user_behavior_reason_end_remote</th>\n",
       "      <th>enc__hist_user_behavior_reason_end_trackdone</th>\n",
       "      <th>enc__mode_major</th>\n",
       "      <th>enc__mode_minor</th>\n",
       "    </tr>\n",
       "  </thead>\n",
       "  <tbody>\n",
       "    <tr>\n",
       "      <th>1</th>\n",
       "      <td>2</td>\n",
       "      <td>20.0</td>\n",
       "      <td>0.0</td>\n",
       "      <td>0.0</td>\n",
       "      <td>0.666667</td>\n",
       "      <td>0.0</td>\n",
       "      <td>0.0</td>\n",
       "      <td>0.0</td>\n",
       "      <td>0.0</td>\n",
       "      <td>1.0</td>\n",
       "      <td>...</td>\n",
       "      <td>0.0</td>\n",
       "      <td>0.0</td>\n",
       "      <td>0.0</td>\n",
       "      <td>0.0</td>\n",
       "      <td>0.0</td>\n",
       "      <td>0.0</td>\n",
       "      <td>0.0</td>\n",
       "      <td>1.0</td>\n",
       "      <td>0.333333</td>\n",
       "      <td>0.666667</td>\n",
       "    </tr>\n",
       "    <tr>\n",
       "      <th>2</th>\n",
       "      <td>3</td>\n",
       "      <td>20.0</td>\n",
       "      <td>0.0</td>\n",
       "      <td>0.0</td>\n",
       "      <td>0.857143</td>\n",
       "      <td>0.0</td>\n",
       "      <td>0.0</td>\n",
       "      <td>0.0</td>\n",
       "      <td>0.0</td>\n",
       "      <td>1.0</td>\n",
       "      <td>...</td>\n",
       "      <td>0.0</td>\n",
       "      <td>0.0</td>\n",
       "      <td>0.0</td>\n",
       "      <td>0.0</td>\n",
       "      <td>0.0</td>\n",
       "      <td>0.0</td>\n",
       "      <td>0.0</td>\n",
       "      <td>1.0</td>\n",
       "      <td>0.714286</td>\n",
       "      <td>0.285714</td>\n",
       "    </tr>\n",
       "    <tr>\n",
       "      <th>3</th>\n",
       "      <td>4</td>\n",
       "      <td>20.0</td>\n",
       "      <td>0.0</td>\n",
       "      <td>0.0</td>\n",
       "      <td>0.933333</td>\n",
       "      <td>0.0</td>\n",
       "      <td>0.0</td>\n",
       "      <td>0.0</td>\n",
       "      <td>0.0</td>\n",
       "      <td>1.0</td>\n",
       "      <td>...</td>\n",
       "      <td>0.0</td>\n",
       "      <td>0.0</td>\n",
       "      <td>0.0</td>\n",
       "      <td>0.0</td>\n",
       "      <td>0.0</td>\n",
       "      <td>0.0</td>\n",
       "      <td>0.0</td>\n",
       "      <td>1.0</td>\n",
       "      <td>0.866667</td>\n",
       "      <td>0.133333</td>\n",
       "    </tr>\n",
       "    <tr>\n",
       "      <th>4</th>\n",
       "      <td>5</td>\n",
       "      <td>20.0</td>\n",
       "      <td>0.0</td>\n",
       "      <td>0.0</td>\n",
       "      <td>0.967742</td>\n",
       "      <td>0.0</td>\n",
       "      <td>0.0</td>\n",
       "      <td>0.0</td>\n",
       "      <td>0.0</td>\n",
       "      <td>1.0</td>\n",
       "      <td>...</td>\n",
       "      <td>0.0</td>\n",
       "      <td>0.0</td>\n",
       "      <td>0.0</td>\n",
       "      <td>0.0</td>\n",
       "      <td>0.0</td>\n",
       "      <td>0.0</td>\n",
       "      <td>0.0</td>\n",
       "      <td>1.0</td>\n",
       "      <td>0.935484</td>\n",
       "      <td>0.064516</td>\n",
       "    </tr>\n",
       "    <tr>\n",
       "      <th>5</th>\n",
       "      <td>6</td>\n",
       "      <td>20.0</td>\n",
       "      <td>0.0</td>\n",
       "      <td>0.0</td>\n",
       "      <td>0.984127</td>\n",
       "      <td>0.0</td>\n",
       "      <td>0.0</td>\n",
       "      <td>0.0</td>\n",
       "      <td>0.0</td>\n",
       "      <td>1.0</td>\n",
       "      <td>...</td>\n",
       "      <td>0.0</td>\n",
       "      <td>0.0</td>\n",
       "      <td>0.0</td>\n",
       "      <td>0.0</td>\n",
       "      <td>0.0</td>\n",
       "      <td>0.0</td>\n",
       "      <td>0.0</td>\n",
       "      <td>1.0</td>\n",
       "      <td>0.460317</td>\n",
       "      <td>0.539683</td>\n",
       "    </tr>\n",
       "  </tbody>\n",
       "</table>\n",
       "<p>5 rows × 67 columns</p>\n",
       "</div>"
      ],
      "text/plain": [
       "   session_position  session_length  skip_2  context_switch  \\\n",
       "1                 2            20.0     0.0             0.0   \n",
       "2                 3            20.0     0.0             0.0   \n",
       "3                 4            20.0     0.0             0.0   \n",
       "4                 5            20.0     0.0             0.0   \n",
       "5                 6            20.0     0.0             0.0   \n",
       "\n",
       "   no_pause_before_play  short_pause_before_play  long_pause_before_play  \\\n",
       "1              0.666667                      0.0                     0.0   \n",
       "2              0.857143                      0.0                     0.0   \n",
       "3              0.933333                      0.0                     0.0   \n",
       "4              0.967742                      0.0                     0.0   \n",
       "5              0.984127                      0.0                     0.0   \n",
       "\n",
       "   hist_user_behavior_n_seekfwd  hist_user_behavior_n_seekback  \\\n",
       "1                           0.0                            0.0   \n",
       "2                           0.0                            0.0   \n",
       "3                           0.0                            0.0   \n",
       "4                           0.0                            0.0   \n",
       "5                           0.0                            0.0   \n",
       "\n",
       "   hist_user_behavior_is_shuffle  ...  \\\n",
       "1                            1.0  ...   \n",
       "2                            1.0  ...   \n",
       "3                            1.0  ...   \n",
       "4                            1.0  ...   \n",
       "5                            1.0  ...   \n",
       "\n",
       "   enc__hist_user_behavior_reason_start_trackerror  \\\n",
       "1                                              0.0   \n",
       "2                                              0.0   \n",
       "3                                              0.0   \n",
       "4                                              0.0   \n",
       "5                                              0.0   \n",
       "\n",
       "   enc__hist_user_behavior_reason_end_backbtn  \\\n",
       "1                                         0.0   \n",
       "2                                         0.0   \n",
       "3                                         0.0   \n",
       "4                                         0.0   \n",
       "5                                         0.0   \n",
       "\n",
       "   enc__hist_user_behavior_reason_end_clickrow  \\\n",
       "1                                          0.0   \n",
       "2                                          0.0   \n",
       "3                                          0.0   \n",
       "4                                          0.0   \n",
       "5                                          0.0   \n",
       "\n",
       "   enc__hist_user_behavior_reason_end_endplay  \\\n",
       "1                                         0.0   \n",
       "2                                         0.0   \n",
       "3                                         0.0   \n",
       "4                                         0.0   \n",
       "5                                         0.0   \n",
       "\n",
       "   enc__hist_user_behavior_reason_end_fwdbtn  \\\n",
       "1                                        0.0   \n",
       "2                                        0.0   \n",
       "3                                        0.0   \n",
       "4                                        0.0   \n",
       "5                                        0.0   \n",
       "\n",
       "   enc__hist_user_behavior_reason_end_logout  \\\n",
       "1                                        0.0   \n",
       "2                                        0.0   \n",
       "3                                        0.0   \n",
       "4                                        0.0   \n",
       "5                                        0.0   \n",
       "\n",
       "   enc__hist_user_behavior_reason_end_remote  \\\n",
       "1                                        0.0   \n",
       "2                                        0.0   \n",
       "3                                        0.0   \n",
       "4                                        0.0   \n",
       "5                                        0.0   \n",
       "\n",
       "   enc__hist_user_behavior_reason_end_trackdone  enc__mode_major  \\\n",
       "1                                           1.0         0.333333   \n",
       "2                                           1.0         0.714286   \n",
       "3                                           1.0         0.866667   \n",
       "4                                           1.0         0.935484   \n",
       "5                                           1.0         0.460317   \n",
       "\n",
       "   enc__mode_minor  \n",
       "1         0.666667  \n",
       "2         0.285714  \n",
       "3         0.133333  \n",
       "4         0.064516  \n",
       "5         0.539683  \n",
       "\n",
       "[5 rows x 67 columns]"
      ]
     },
     "execution_count": 18,
     "metadata": {},
     "output_type": "execute_result"
    }
   ],
   "source": [
    "# Sanity check\n",
    "X1.head()"
   ]
  },
  {
   "cell_type": "code",
   "execution_count": 19,
   "id": "d1a05f99-9518-4a2b-92b0-8c9c807de589",
   "metadata": {},
   "outputs": [
    {
     "data": {
      "text/plain": [
       "True"
      ]
     },
     "execution_count": 19,
     "metadata": {},
     "output_type": "execute_result"
    }
   ],
   "source": [
    "# Another sanity check to insure the indices match\n",
    "all(X1.index == y.index)"
   ]
  },
  {
   "cell_type": "code",
   "execution_count": 20,
   "id": "12dd2476-757d-481a-940e-aead1f810289",
   "metadata": {},
   "outputs": [],
   "source": [
    "# Re-assigns y to correct dimensions\n",
    "y = y['skip_2']"
   ]
  },
  {
   "cell_type": "markdown",
   "id": "ba75f6e3-fd69-4dc8-8b56-a6140dd10e96",
   "metadata": {},
   "source": [
    "Now that I successfully dropped the first tracks of each session from both X1, and y, I will proceed to fit a Logit classifier to see how the new engineered feature performs."
   ]
  },
  {
   "cell_type": "code",
   "execution_count": 21,
   "id": "88fd4ab0-aa10-4945-84d3-e063fa335938",
   "metadata": {},
   "outputs": [],
   "source": [
    "# Splitting into remainder and test sets\n",
    "X1_remainder, X1_test, y1_remainder, y1_test = \\\n",
    "    train_test_split(X1, y, test_size = 0.2,\n",
    "                     random_state=42)"
   ]
  },
  {
   "cell_type": "code",
   "execution_count": 22,
   "id": "4c1a9b47-c2fd-4966-ae20-76d0222db490",
   "metadata": {},
   "outputs": [],
   "source": [
    "# Splitting the remainder into train and validation\n",
    "X1_train, X1_validation, y1_train, y1_validation = \\\n",
    "    train_test_split(X1_remainder, y1_remainder, test_size = 0.3,\n",
    "                     random_state=42)"
   ]
  },
  {
   "cell_type": "code",
   "execution_count": 23,
   "id": "40c93823-220e-413f-b77c-04493d331e1e",
   "metadata": {},
   "outputs": [
    {
     "name": "stderr",
     "output_type": "stream",
     "text": [
      "[Parallel(n_jobs=-1)]: Using backend LokyBackend with 16 concurrent workers.\n",
      "[Parallel(n_jobs=-1)]: Done   1 out of   1 | elapsed:  1.2min finished\n"
     ]
    },
    {
     "data": {
      "text/plain": [
       "LogisticRegression(max_iter=500, n_jobs=-1, random_state=42, verbose=1)"
      ]
     },
     "execution_count": 23,
     "metadata": {},
     "output_type": "execute_result"
    }
   ],
   "source": [
    "# Instantiates Logit\n",
    "logit = LogisticRegression(max_iter=500, verbose=1, n_jobs=-1, random_state=42)\n",
    "\n",
    "# Fits (Estimated runtime: ~1-2 min)\n",
    "logit.fit(X1_train, y1_train)"
   ]
  },
  {
   "cell_type": "code",
   "execution_count": 24,
   "id": "120ddfc6-2bcd-498a-a157-7cb7bd59055b",
   "metadata": {},
   "outputs": [
    {
     "name": "stdout",
     "output_type": "stream",
     "text": [
      "Train score: 0.75\n",
      "Validation score: 0.75\n"
     ]
    }
   ],
   "source": [
    "# Scores on train and validation\n",
    "print(f\"Train score: {logit.score(X1_train, y1_train):.2f}\")\n",
    "print(f\"Validation score: {logit.score(X1_validation, y1_validation):.2f}\")"
   ]
  },
  {
   "cell_type": "markdown",
   "id": "466e3193-32d8-4379-a46f-0a3efb876418",
   "metadata": {},
   "source": [
    "Based on these results, this model is comparable to the baseline model I trained in Notebook 4. Which had a classication accuracy of 77%. It should be noted that the EWMA was computed using alpha = 0.5. I'll now move on to try and optimize for alpha.\n",
    "\n",
    "---"
   ]
  },
  {
   "cell_type": "markdown",
   "id": "9d188cf7-2fe0-44c7-bfef-cb9ac784fc8c",
   "metadata": {},
   "source": [
    "### Optimizing for `'alpha'`"
   ]
  },
  {
   "cell_type": "markdown",
   "id": "e3bb97bb-7b80-4319-aaa2-0722a70c2e64",
   "metadata": {},
   "source": [
    "### Using Logistic Regression"
   ]
  },
  {
   "cell_type": "code",
   "execution_count": 25,
   "id": "575ca4f9-41d8-4c5f-8d0f-30c170bc11bc",
   "metadata": {},
   "outputs": [
    {
     "name": "stdout",
     "output_type": "stream",
     "text": [
      "Computing exponentially-weighted moving average for features.\n",
      "Implementing row stagger for skip and track end behaviour features.\n",
      "Re-assigning original 'session_position' feature values.\n",
      "Dropping first song from every session.\n",
      "Dropping 'session_id' column.\n",
      "Calculating model score.\n"
     ]
    },
    {
     "name": "stderr",
     "output_type": "stream",
     "text": [
      "[Parallel(n_jobs=1)]: Using backend SequentialBackend with 1 concurrent workers.\n",
      "[Parallel(n_jobs=1)]: Done   3 out of   3 | elapsed:   47.0s finished\n"
     ]
    },
    {
     "name": "stdout",
     "output_type": "stream",
     "text": [
      "Appending score to dictionary.\n",
      "Computing exponentially-weighted moving average for features.\n",
      "Implementing row stagger for skip and track end behaviour features.\n",
      "Re-assigning original 'session_position' feature values.\n",
      "Dropping first song from every session.\n",
      "Dropping 'session_id' column.\n",
      "Calculating model score.\n"
     ]
    },
    {
     "name": "stderr",
     "output_type": "stream",
     "text": [
      "[Parallel(n_jobs=1)]: Using backend SequentialBackend with 1 concurrent workers.\n",
      "[Parallel(n_jobs=1)]: Done   3 out of   3 | elapsed:   48.8s finished\n"
     ]
    },
    {
     "name": "stdout",
     "output_type": "stream",
     "text": [
      "Appending score to dictionary.\n",
      "Computing exponentially-weighted moving average for features.\n",
      "Implementing row stagger for skip and track end behaviour features.\n",
      "Re-assigning original 'session_position' feature values.\n",
      "Dropping first song from every session.\n",
      "Dropping 'session_id' column.\n",
      "Calculating model score.\n"
     ]
    },
    {
     "name": "stderr",
     "output_type": "stream",
     "text": [
      "[Parallel(n_jobs=1)]: Using backend SequentialBackend with 1 concurrent workers.\n",
      "[Parallel(n_jobs=1)]: Done   3 out of   3 | elapsed:   44.8s finished\n"
     ]
    },
    {
     "name": "stdout",
     "output_type": "stream",
     "text": [
      "Appending score to dictionary.\n",
      "Computing exponentially-weighted moving average for features.\n",
      "Implementing row stagger for skip and track end behaviour features.\n",
      "Re-assigning original 'session_position' feature values.\n",
      "Dropping first song from every session.\n",
      "Dropping 'session_id' column.\n",
      "Calculating model score.\n"
     ]
    },
    {
     "name": "stderr",
     "output_type": "stream",
     "text": [
      "[Parallel(n_jobs=1)]: Using backend SequentialBackend with 1 concurrent workers.\n",
      "[Parallel(n_jobs=1)]: Done   3 out of   3 | elapsed:   41.3s finished\n"
     ]
    },
    {
     "name": "stdout",
     "output_type": "stream",
     "text": [
      "Appending score to dictionary.\n",
      "Computing exponentially-weighted moving average for features.\n",
      "Implementing row stagger for skip and track end behaviour features.\n",
      "Re-assigning original 'session_position' feature values.\n",
      "Dropping first song from every session.\n",
      "Dropping 'session_id' column.\n",
      "Calculating model score.\n"
     ]
    },
    {
     "name": "stderr",
     "output_type": "stream",
     "text": [
      "[Parallel(n_jobs=1)]: Using backend SequentialBackend with 1 concurrent workers.\n",
      "[Parallel(n_jobs=1)]: Done   3 out of   3 | elapsed:   42.6s finished\n"
     ]
    },
    {
     "name": "stdout",
     "output_type": "stream",
     "text": [
      "Appending score to dictionary.\n",
      "Computing exponentially-weighted moving average for features.\n",
      "Implementing row stagger for skip and track end behaviour features.\n",
      "Re-assigning original 'session_position' feature values.\n",
      "Dropping first song from every session.\n",
      "Dropping 'session_id' column.\n",
      "Calculating model score.\n"
     ]
    },
    {
     "name": "stderr",
     "output_type": "stream",
     "text": [
      "[Parallel(n_jobs=1)]: Using backend SequentialBackend with 1 concurrent workers.\n",
      "[Parallel(n_jobs=1)]: Done   3 out of   3 | elapsed:   40.7s finished\n"
     ]
    },
    {
     "name": "stdout",
     "output_type": "stream",
     "text": [
      "Appending score to dictionary.\n",
      "Computing exponentially-weighted moving average for features.\n",
      "Implementing row stagger for skip and track end behaviour features.\n",
      "Re-assigning original 'session_position' feature values.\n",
      "Dropping first song from every session.\n",
      "Dropping 'session_id' column.\n",
      "Calculating model score.\n"
     ]
    },
    {
     "name": "stderr",
     "output_type": "stream",
     "text": [
      "[Parallel(n_jobs=1)]: Using backend SequentialBackend with 1 concurrent workers.\n",
      "[Parallel(n_jobs=1)]: Done   3 out of   3 | elapsed:   42.6s finished\n"
     ]
    },
    {
     "name": "stdout",
     "output_type": "stream",
     "text": [
      "Appending score to dictionary.\n",
      "Computing exponentially-weighted moving average for features.\n",
      "Implementing row stagger for skip and track end behaviour features.\n",
      "Re-assigning original 'session_position' feature values.\n",
      "Dropping first song from every session.\n",
      "Dropping 'session_id' column.\n",
      "Calculating model score.\n"
     ]
    },
    {
     "name": "stderr",
     "output_type": "stream",
     "text": [
      "[Parallel(n_jobs=1)]: Using backend SequentialBackend with 1 concurrent workers.\n",
      "[Parallel(n_jobs=1)]: Done   3 out of   3 | elapsed:   46.0s finished\n"
     ]
    },
    {
     "name": "stdout",
     "output_type": "stream",
     "text": [
      "Appending score to dictionary.\n",
      "Computing exponentially-weighted moving average for features.\n",
      "Implementing row stagger for skip and track end behaviour features.\n",
      "Re-assigning original 'session_position' feature values.\n",
      "Dropping first song from every session.\n",
      "Dropping 'session_id' column.\n",
      "Calculating model score.\n"
     ]
    },
    {
     "name": "stderr",
     "output_type": "stream",
     "text": [
      "[Parallel(n_jobs=1)]: Using backend SequentialBackend with 1 concurrent workers.\n"
     ]
    },
    {
     "name": "stdout",
     "output_type": "stream",
     "text": [
      "Appending score to dictionary.\n"
     ]
    },
    {
     "name": "stderr",
     "output_type": "stream",
     "text": [
      "[Parallel(n_jobs=1)]: Done   3 out of   3 | elapsed:  1.0min finished\n"
     ]
    }
   ],
   "source": [
    "# Warning this cell will take a while to run roughly 10-20 minutes\n",
    "\n",
    "# Assigning X\n",
    "X = features\n",
    "\n",
    "# Creates range of alpha values to iterate through\n",
    "alpha_range = np.linspace(0.1, 0.9, 9).round(1) \n",
    "\n",
    "# Instantiates dictionary to store alpha parameter and respective accuracies from model\n",
    "alpha_acc_dict = {}\n",
    "\n",
    "# Pre-populates with keys from alpha_range\n",
    "for i in alpha_range:\n",
    "    alpha_acc_dict[i] = []\n",
    "\n",
    "for alpha in alpha_range:\n",
    "    \n",
    "    print(\"Computing exponentially-weighted moving average for features.\")\n",
    "    X2 = X.groupby('session_id', as_index=False).ewm(alpha = alpha).mean().reset_index().drop('level_1', axis=1)\n",
    "\n",
    "    # Assigns to X_shifted, will be re-assigned to original dataframe\n",
    "    X2_shifted = X2.groupby('session_id')[['skip_2',   \n",
    "                                                'enc__hist_user_behavior_reason_end_backbtn',\n",
    "                                                'enc__hist_user_behavior_reason_end_clickrow',  \n",
    "                                                'enc__hist_user_behavior_reason_end_endplay',  \n",
    "                                                'enc__hist_user_behavior_reason_end_fwdbtn',  \n",
    "                                                'enc__hist_user_behavior_reason_end_logout',\n",
    "                                                'enc__hist_user_behavior_reason_end_remote',  \n",
    "                                                'enc__hist_user_behavior_reason_end_trackdone']].shift()\n",
    "    \n",
    "\n",
    "    # Re-assigns previous columns to shift columns from above\n",
    "    print(\"Implementing row stagger for skip and track end behaviour features.\")\n",
    "\n",
    "    X2 = X2.assign(**X2_shifted.to_dict(orient='series'))\n",
    "\n",
    "    # Re-assigns 'session_position' to original value Re: I require the original values so that the model has information about where the track is within the session\n",
    "    print(\"Re-assigning original 'session_position' feature values.\")\n",
    "    X2['session_position'] = X['session_position']\n",
    "\n",
    "    # Drops first song from every session\n",
    "    print(\"Dropping first song from every session.\")\n",
    "    X2.drop(X2[X2['session_position'] == 1].index, inplace=True)\n",
    "    \n",
    "    # Drops 'session_id' column\n",
    "    print(\"Dropping 'session_id' column.\")\n",
    "    X2.drop('session_id', axis=1, inplace=True)\n",
    "    \n",
    "    estimators = [('normalise', StandardScaler()),\n",
    "                    ('logit', LogisticRegression(n_jobs= -1, random_state=42, max_iter=500))] \n",
    "\n",
    "    pipe = Pipeline(estimators)\n",
    "    \n",
    "    print(\"Calculating model score.\")\n",
    "    \n",
    "    mean_cross_val_score = np.mean(cross_val_score(pipe, X2, y, cv=3, verbose=1))\n",
    "    \n",
    "    print(\"Appending score to dictionary.\")\n",
    "    alpha_acc_dict[alpha].append(mean_cross_val_score)"
   ]
  },
  {
   "cell_type": "code",
   "execution_count": 26,
   "id": "063e9539-ac65-4f31-bbc3-814c9efdbbad",
   "metadata": {},
   "outputs": [
    {
     "data": {
      "image/png": "[encoded data removed]",
      "text/plain": [
       "<Figure size 1080x360 with 1 Axes>"
      ]
     },
     "metadata": {},
     "output_type": "display_data"
    }
   ],
   "source": [
    "# Turns alpha parameter model accuracies to dataframe\n",
    "alpha_acc_df = pd.DataFrame.from_dict(alpha_acc_dict).T\n",
    "\n",
    "# Plots alpha parameter against mean validation score\n",
    "plt.figure(figsize=(15,5))\n",
    "plt.plot(alpha_acc_df)\n",
    "plt.title('Comparing different alpha parameters of EWMA-Random Forest experiments on sequential skip predictions', size=20)\n",
    "plt.xlabel('alpha parameter', size=14)\n",
    "plt.ylabel('mean cross val score (accuracy)', size=14)\n",
    "plt.xticks(alpha_acc_df.index)\n",
    "plt.show()"
   ]
  },
  {
   "cell_type": "code",
   "execution_count": 27,
   "id": "98ee9758-0eb2-4659-8509-c975c727e765",
   "metadata": {},
   "outputs": [],
   "source": [
    "from sklearn.ensemble import RandomForestClassifier\n",
    "from sklearn.datasets import make_classification"
   ]
  },
  {
   "cell_type": "markdown",
   "id": "9f522897-d7e0-46b1-a898-af1a414ecc53",
   "metadata": {},
   "source": [
    "### Using a Random Forest Classifier"
   ]
  },
  {
   "cell_type": "code",
   "execution_count": 28,
   "id": "1303b998-364d-43e0-a238-0507434953dd",
   "metadata": {},
   "outputs": [
    {
     "name": "stdout",
     "output_type": "stream",
     "text": [
      "Computing exponentially-weighted moving average for features.\n",
      "Implementing row stagger for skip and track end behaviour features.\n",
      "Re-assigning original 'session_position' feature values.\n",
      "Dropping first song from every session.\n",
      "Dropping 'session_id' column.\n",
      "Calculating model score.\n"
     ]
    },
    {
     "name": "stderr",
     "output_type": "stream",
     "text": [
      "[Parallel(n_jobs=1)]: Using backend SequentialBackend with 1 concurrent workers.\n"
     ]
    },
    {
     "name": "stdout",
     "output_type": "stream",
     "text": [
      "[CV] END ................................ score: (test=0.717) total time=   6.4s\n"
     ]
    },
    {
     "name": "stderr",
     "output_type": "stream",
     "text": [
      "[Parallel(n_jobs=1)]: Done   1 out of   1 | elapsed:    6.4s remaining:    0.0s\n"
     ]
    },
    {
     "name": "stdout",
     "output_type": "stream",
     "text": [
      "[CV] END ................................ score: (test=0.715) total time=   6.2s\n",
      "Appending score to dictionary.\n",
      "Computing exponentially-weighted moving average for features.\n"
     ]
    },
    {
     "name": "stderr",
     "output_type": "stream",
     "text": [
      "[Parallel(n_jobs=1)]: Done   2 out of   2 | elapsed:   12.7s remaining:    0.0s\n",
      "[Parallel(n_jobs=1)]: Done   2 out of   2 | elapsed:   12.7s finished\n"
     ]
    },
    {
     "name": "stdout",
     "output_type": "stream",
     "text": [
      "Implementing row stagger for skip and track end behaviour features.\n",
      "Re-assigning original 'session_position' feature values.\n",
      "Dropping first song from every session.\n",
      "Dropping 'session_id' column.\n",
      "Calculating model score.\n"
     ]
    },
    {
     "name": "stderr",
     "output_type": "stream",
     "text": [
      "[Parallel(n_jobs=1)]: Using backend SequentialBackend with 1 concurrent workers.\n"
     ]
    },
    {
     "name": "stdout",
     "output_type": "stream",
     "text": [
      "[CV] END ................................ score: (test=0.741) total time=   6.2s\n"
     ]
    },
    {
     "name": "stderr",
     "output_type": "stream",
     "text": [
      "[Parallel(n_jobs=1)]: Done   1 out of   1 | elapsed:    6.2s remaining:    0.0s\n"
     ]
    },
    {
     "name": "stdout",
     "output_type": "stream",
     "text": [
      "[CV] END ................................ score: (test=0.739) total time=   6.5s\n",
      "Appending score to dictionary.\n",
      "Computing exponentially-weighted moving average for features.\n"
     ]
    },
    {
     "name": "stderr",
     "output_type": "stream",
     "text": [
      "[Parallel(n_jobs=1)]: Done   2 out of   2 | elapsed:   12.8s remaining:    0.0s\n",
      "[Parallel(n_jobs=1)]: Done   2 out of   2 | elapsed:   12.8s finished\n"
     ]
    },
    {
     "name": "stdout",
     "output_type": "stream",
     "text": [
      "Implementing row stagger for skip and track end behaviour features.\n",
      "Re-assigning original 'session_position' feature values.\n",
      "Dropping first song from every session.\n",
      "Dropping 'session_id' column.\n",
      "Calculating model score.\n"
     ]
    },
    {
     "name": "stderr",
     "output_type": "stream",
     "text": [
      "[Parallel(n_jobs=1)]: Using backend SequentialBackend with 1 concurrent workers.\n"
     ]
    },
    {
     "name": "stdout",
     "output_type": "stream",
     "text": [
      "[CV] END ................................ score: (test=0.760) total time=   6.3s\n"
     ]
    },
    {
     "name": "stderr",
     "output_type": "stream",
     "text": [
      "[Parallel(n_jobs=1)]: Done   1 out of   1 | elapsed:    6.4s remaining:    0.0s\n"
     ]
    },
    {
     "name": "stdout",
     "output_type": "stream",
     "text": [
      "[CV] END ................................ score: (test=0.759) total time=   6.8s\n",
      "Appending score to dictionary.\n",
      "Computing exponentially-weighted moving average for features.\n"
     ]
    },
    {
     "name": "stderr",
     "output_type": "stream",
     "text": [
      "[Parallel(n_jobs=1)]: Done   2 out of   2 | elapsed:   13.2s remaining:    0.0s\n",
      "[Parallel(n_jobs=1)]: Done   2 out of   2 | elapsed:   13.2s finished\n"
     ]
    },
    {
     "name": "stdout",
     "output_type": "stream",
     "text": [
      "Implementing row stagger for skip and track end behaviour features.\n",
      "Re-assigning original 'session_position' feature values.\n",
      "Dropping first song from every session.\n",
      "Dropping 'session_id' column.\n",
      "Calculating model score.\n"
     ]
    },
    {
     "name": "stderr",
     "output_type": "stream",
     "text": [
      "[Parallel(n_jobs=1)]: Using backend SequentialBackend with 1 concurrent workers.\n"
     ]
    },
    {
     "name": "stdout",
     "output_type": "stream",
     "text": [
      "[CV] END ................................ score: (test=0.773) total time=   6.6s\n"
     ]
    },
    {
     "name": "stderr",
     "output_type": "stream",
     "text": [
      "[Parallel(n_jobs=1)]: Done   1 out of   1 | elapsed:    6.6s remaining:    0.0s\n"
     ]
    },
    {
     "name": "stdout",
     "output_type": "stream",
     "text": [
      "[CV] END ................................ score: (test=0.773) total time=   7.0s\n",
      "Appending score to dictionary.\n",
      "Computing exponentially-weighted moving average for features.\n"
     ]
    },
    {
     "name": "stderr",
     "output_type": "stream",
     "text": [
      "[Parallel(n_jobs=1)]: Done   2 out of   2 | elapsed:   13.6s remaining:    0.0s\n",
      "[Parallel(n_jobs=1)]: Done   2 out of   2 | elapsed:   13.6s finished\n"
     ]
    },
    {
     "name": "stdout",
     "output_type": "stream",
     "text": [
      "Implementing row stagger for skip and track end behaviour features.\n",
      "Re-assigning original 'session_position' feature values.\n",
      "Dropping first song from every session.\n",
      "Dropping 'session_id' column.\n",
      "Calculating model score.\n"
     ]
    },
    {
     "name": "stderr",
     "output_type": "stream",
     "text": [
      "[Parallel(n_jobs=1)]: Using backend SequentialBackend with 1 concurrent workers.\n"
     ]
    },
    {
     "name": "stdout",
     "output_type": "stream",
     "text": [
      "[CV] END ................................ score: (test=0.779) total time=   7.0s\n"
     ]
    },
    {
     "name": "stderr",
     "output_type": "stream",
     "text": [
      "[Parallel(n_jobs=1)]: Done   1 out of   1 | elapsed:    7.1s remaining:    0.0s\n"
     ]
    },
    {
     "name": "stdout",
     "output_type": "stream",
     "text": [
      "[CV] END ................................ score: (test=0.779) total time=   7.0s\n",
      "Appending score to dictionary.\n",
      "Computing exponentially-weighted moving average for features.\n"
     ]
    },
    {
     "name": "stderr",
     "output_type": "stream",
     "text": [
      "[Parallel(n_jobs=1)]: Done   2 out of   2 | elapsed:   14.1s remaining:    0.0s\n",
      "[Parallel(n_jobs=1)]: Done   2 out of   2 | elapsed:   14.1s finished\n"
     ]
    },
    {
     "name": "stdout",
     "output_type": "stream",
     "text": [
      "Implementing row stagger for skip and track end behaviour features.\n",
      "Re-assigning original 'session_position' feature values.\n",
      "Dropping first song from every session.\n",
      "Dropping 'session_id' column.\n",
      "Calculating model score.\n"
     ]
    },
    {
     "name": "stderr",
     "output_type": "stream",
     "text": [
      "[Parallel(n_jobs=1)]: Using backend SequentialBackend with 1 concurrent workers.\n"
     ]
    },
    {
     "name": "stdout",
     "output_type": "stream",
     "text": [
      "[CV] END ................................ score: (test=0.779) total time=   6.7s\n"
     ]
    },
    {
     "name": "stderr",
     "output_type": "stream",
     "text": [
      "[Parallel(n_jobs=1)]: Done   1 out of   1 | elapsed:    6.7s remaining:    0.0s\n"
     ]
    },
    {
     "name": "stdout",
     "output_type": "stream",
     "text": [
      "[CV] END ................................ score: (test=0.780) total time=   6.8s\n",
      "Appending score to dictionary.\n",
      "Computing exponentially-weighted moving average for features.\n"
     ]
    },
    {
     "name": "stderr",
     "output_type": "stream",
     "text": [
      "[Parallel(n_jobs=1)]: Done   2 out of   2 | elapsed:   13.6s remaining:    0.0s\n",
      "[Parallel(n_jobs=1)]: Done   2 out of   2 | elapsed:   13.6s finished\n"
     ]
    },
    {
     "name": "stdout",
     "output_type": "stream",
     "text": [
      "Implementing row stagger for skip and track end behaviour features.\n",
      "Re-assigning original 'session_position' feature values.\n",
      "Dropping first song from every session.\n",
      "Dropping 'session_id' column.\n",
      "Calculating model score.\n"
     ]
    },
    {
     "name": "stderr",
     "output_type": "stream",
     "text": [
      "[Parallel(n_jobs=1)]: Using backend SequentialBackend with 1 concurrent workers.\n"
     ]
    },
    {
     "name": "stdout",
     "output_type": "stream",
     "text": [
      "[CV] END ................................ score: (test=0.780) total time=   6.6s\n"
     ]
    },
    {
     "name": "stderr",
     "output_type": "stream",
     "text": [
      "[Parallel(n_jobs=1)]: Done   1 out of   1 | elapsed:    6.6s remaining:    0.0s\n"
     ]
    },
    {
     "name": "stdout",
     "output_type": "stream",
     "text": [
      "[CV] END ................................ score: (test=0.780) total time=   6.8s\n",
      "Appending score to dictionary.\n",
      "Computing exponentially-weighted moving average for features.\n"
     ]
    },
    {
     "name": "stderr",
     "output_type": "stream",
     "text": [
      "[Parallel(n_jobs=1)]: Done   2 out of   2 | elapsed:   13.5s remaining:    0.0s\n",
      "[Parallel(n_jobs=1)]: Done   2 out of   2 | elapsed:   13.5s finished\n"
     ]
    },
    {
     "name": "stdout",
     "output_type": "stream",
     "text": [
      "Implementing row stagger for skip and track end behaviour features.\n",
      "Re-assigning original 'session_position' feature values.\n",
      "Dropping first song from every session.\n",
      "Dropping 'session_id' column.\n",
      "Calculating model score.\n"
     ]
    },
    {
     "name": "stderr",
     "output_type": "stream",
     "text": [
      "[Parallel(n_jobs=1)]: Using backend SequentialBackend with 1 concurrent workers.\n"
     ]
    },
    {
     "name": "stdout",
     "output_type": "stream",
     "text": [
      "[CV] END ................................ score: (test=0.779) total time=   6.2s\n"
     ]
    },
    {
     "name": "stderr",
     "output_type": "stream",
     "text": [
      "[Parallel(n_jobs=1)]: Done   1 out of   1 | elapsed:    6.2s remaining:    0.0s\n"
     ]
    },
    {
     "name": "stdout",
     "output_type": "stream",
     "text": [
      "[CV] END ................................ score: (test=0.780) total time=   6.3s\n",
      "Appending score to dictionary.\n",
      "Computing exponentially-weighted moving average for features.\n"
     ]
    },
    {
     "name": "stderr",
     "output_type": "stream",
     "text": [
      "[Parallel(n_jobs=1)]: Done   2 out of   2 | elapsed:   12.6s remaining:    0.0s\n",
      "[Parallel(n_jobs=1)]: Done   2 out of   2 | elapsed:   12.6s finished\n"
     ]
    },
    {
     "name": "stdout",
     "output_type": "stream",
     "text": [
      "Implementing row stagger for skip and track end behaviour features.\n",
      "Re-assigning original 'session_position' feature values.\n",
      "Dropping first song from every session.\n",
      "Dropping 'session_id' column.\n",
      "Calculating model score.\n"
     ]
    },
    {
     "name": "stderr",
     "output_type": "stream",
     "text": [
      "[Parallel(n_jobs=1)]: Using backend SequentialBackend with 1 concurrent workers.\n"
     ]
    },
    {
     "name": "stdout",
     "output_type": "stream",
     "text": [
      "[CV] END ................................ score: (test=0.778) total time=   6.0s\n"
     ]
    },
    {
     "name": "stderr",
     "output_type": "stream",
     "text": [
      "[Parallel(n_jobs=1)]: Done   1 out of   1 | elapsed:    6.0s remaining:    0.0s\n"
     ]
    },
    {
     "name": "stdout",
     "output_type": "stream",
     "text": [
      "[CV] END ................................ score: (test=0.779) total time=   6.2s\n",
      "Appending score to dictionary.\n"
     ]
    },
    {
     "name": "stderr",
     "output_type": "stream",
     "text": [
      "[Parallel(n_jobs=1)]: Done   2 out of   2 | elapsed:   12.3s remaining:    0.0s\n",
      "[Parallel(n_jobs=1)]: Done   2 out of   2 | elapsed:   12.3s finished\n"
     ]
    }
   ],
   "source": [
    "# Takes about 3-4 minutes to run\n",
    "# Assigning X\n",
    "X3 = features\n",
    "\n",
    "# Creates range of alpha values to iterate through\n",
    "alpha_range = np.linspace(0.1, 0.9, 9).round(1) \n",
    "\n",
    "# Instantiates dictionary to store alpha parameter and respective accuracies from model\n",
    "alpha_acc_dict = {}\n",
    "\n",
    "# Pre-populates with keys from alpha_range\n",
    "for i in alpha_range:\n",
    "    alpha_acc_dict[i] = []\n",
    "\n",
    "for alpha in alpha_range:\n",
    "    \n",
    "    print(\"Computing exponentially-weighted moving average for features.\")\n",
    "    X3 = X.groupby('session_id', as_index=False).ewm(alpha = alpha).mean().reset_index().drop('level_1', axis=1)\n",
    "\n",
    "    # Assigns to X_shifted, will be re-assigned to original dataframe\n",
    "    X3_shifted = X3.groupby('session_id')[['skip_2',   \n",
    "                                                'enc__hist_user_behavior_reason_end_backbtn',\n",
    "                                                'enc__hist_user_behavior_reason_end_clickrow',  \n",
    "                                                'enc__hist_user_behavior_reason_end_endplay',  \n",
    "                                                'enc__hist_user_behavior_reason_end_fwdbtn',  \n",
    "                                                'enc__hist_user_behavior_reason_end_logout',\n",
    "                                                'enc__hist_user_behavior_reason_end_remote',  \n",
    "                                                'enc__hist_user_behavior_reason_end_trackdone']].shift()\n",
    "    \n",
    "\n",
    "    # Re-assigns previous columns to shift columns from above\n",
    "    print(\"Implementing row stagger for skip and track end behaviour features.\")\n",
    "\n",
    "    X3 = X3.assign(**X3_shifted.to_dict(orient='series'))\n",
    "\n",
    "    # Re-assigns 'session_position' to original value Re: I require the original values so that the model has information about where the track is within the session\n",
    "    print(\"Re-assigning original 'session_position' feature values.\")\n",
    "    X3['session_position'] = X['session_position']\n",
    "\n",
    "    # Drops first song from every session\n",
    "    print(\"Dropping first song from every session.\")\n",
    "    X3.drop(X3[X3['session_position'] == 1].index, inplace=True)\n",
    "    \n",
    "    # Drops 'session_id' column\n",
    "    print(\"Dropping 'session_id' column.\")\n",
    "    X3.drop('session_id', axis=1, inplace=True)\n",
    "    \n",
    "    estimators = [('random_forest_clf', RandomForestClassifier(n_jobs= -1, random_state=42))] \n",
    "\n",
    "    pipe = Pipeline(estimators)\n",
    "    \n",
    "    print(\"Calculating model score.\")\n",
    "    \n",
    "    mean_cross_val_score = np.mean(cross_val_score(pipe, X3, y, cv=2, verbose=3))\n",
    "    \n",
    "    print(\"Appending score to dictionary.\")\n",
    "    alpha_acc_dict[alpha].append(mean_cross_val_score)"
   ]
  },
  {
   "cell_type": "code",
   "execution_count": 29,
   "id": "63ec158e-1fbb-4022-916b-29a009fb3bd9",
   "metadata": {},
   "outputs": [
    {
     "data": {
      "image/png": "[encoded data removed]",
      "text/plain": [
       "<Figure size 1080x360 with 1 Axes>"
      ]
     },
     "metadata": {},
     "output_type": "display_data"
    }
   ],
   "source": [
    "# Turns alpha parameter model accuracies to dataframe\n",
    "alpha_acc_df = pd.DataFrame.from_dict(alpha_acc_dict).T\n",
    "\n",
    "# Plots alpha parameter against mean validation score\n",
    "plt.figure(figsize=(15,5))\n",
    "plt.plot(alpha_acc_df)\n",
    "plt.title('Comparing different alpha parameters of EWMA-Random Forest experiments on sequential skip predictions', size=20)\n",
    "plt.xlabel('alpha parameter', size=14)\n",
    "plt.ylabel('mean cross val score (accuracy)', size=14)\n",
    "plt.xticks(alpha_acc_df.index)\n",
    "plt.show()"
   ]
  },
  {
   "cell_type": "code",
   "execution_count": 30,
   "id": "1ab1022a-eed8-4fc2-b76f-203919a083ea",
   "metadata": {},
   "outputs": [
    {
     "data": {
      "text/html": [
       "<div>\n",
       "<style scoped>\n",
       "    .dataframe tbody tr th:only-of-type {\n",
       "        vertical-align: middle;\n",
       "    }\n",
       "\n",
       "    .dataframe tbody tr th {\n",
       "        vertical-align: top;\n",
       "    }\n",
       "\n",
       "    .dataframe thead th {\n",
       "        text-align: right;\n",
       "    }\n",
       "</style>\n",
       "<table border=\"1\" class=\"dataframe\">\n",
       "  <thead>\n",
       "    <tr style=\"text-align: right;\">\n",
       "      <th></th>\n",
       "      <th>0</th>\n",
       "    </tr>\n",
       "  </thead>\n",
       "  <tbody>\n",
       "    <tr>\n",
       "      <th>0.1</th>\n",
       "      <td>0.716082</td>\n",
       "    </tr>\n",
       "    <tr>\n",
       "      <th>0.2</th>\n",
       "      <td>0.739543</td>\n",
       "    </tr>\n",
       "    <tr>\n",
       "      <th>0.3</th>\n",
       "      <td>0.759805</td>\n",
       "    </tr>\n",
       "    <tr>\n",
       "      <th>0.4</th>\n",
       "      <td>0.773030</td>\n",
       "    </tr>\n",
       "    <tr>\n",
       "      <th>0.5</th>\n",
       "      <td>0.778990</td>\n",
       "    </tr>\n",
       "    <tr>\n",
       "      <th>0.6</th>\n",
       "      <td>0.779598</td>\n",
       "    </tr>\n",
       "    <tr>\n",
       "      <th>0.7</th>\n",
       "      <td>0.779776</td>\n",
       "    </tr>\n",
       "    <tr>\n",
       "      <th>0.8</th>\n",
       "      <td>0.779560</td>\n",
       "    </tr>\n",
       "    <tr>\n",
       "      <th>0.9</th>\n",
       "      <td>0.778933</td>\n",
       "    </tr>\n",
       "  </tbody>\n",
       "</table>\n",
       "</div>"
      ],
      "text/plain": [
       "            0\n",
       "0.1  0.716082\n",
       "0.2  0.739543\n",
       "0.3  0.759805\n",
       "0.4  0.773030\n",
       "0.5  0.778990\n",
       "0.6  0.779598\n",
       "0.7  0.779776\n",
       "0.8  0.779560\n",
       "0.9  0.778933"
      ]
     },
     "execution_count": 30,
     "metadata": {},
     "output_type": "execute_result"
    }
   ],
   "source": [
    "alpha_acc_df"
   ]
  },
  {
   "cell_type": "markdown",
   "id": "b1669233-6563-49e5-abd1-16878087eba5",
   "metadata": {},
   "source": [
    "Based on the outputs above, as the moving average is calculated with more weight towards the current song, classification accuracy appears to increase as well. The figure along with the chart informs me that I should choose an alpha of 0.7 for my Random Forest Classifer. Which resulted in a mean 5-fold cross-validation score of 0.78."
   ]
  },
  {
   "cell_type": "markdown",
   "id": "9830dc5e-df14-4ff3-a1ae-8973ff267d49",
   "metadata": {},
   "source": [
    "## Wrapping Up\n",
    "- My experiment with exponential-weighted moving average appears to have yield a slightly better classification accuracy as compared our baseline Logit model from the early notebooks\n",
    "- These findings continue to substantiate the importance of previous feature history, but in the particular favouring more immediate or closer to present time\n",
    "- When I weighted each song in the session equally as seen in the cumulative average experiment, there was far less predicting power as compared to the EWMA feature\n",
    "\n",
    "---\n",
    "\n",
    "# Next Steps:\n",
    "- In the next and final notebook I will explore and evaluate the Random Forest classifier with the optimized alpha value\n",
    "- I will discuss and reflect on how the results compared against my initial goals and hypothesis\n",
    "- And see how the practical value of my project measures up against my initial expectation\n",
    "- As well as potential next steps and future directions for the project"
   ]
  }
 ],
 "metadata": {
  "kernelspec": {
   "display_name": "capstone",
   "language": "python",
   "name": "capstone"
  },
  "language_info": {
   "codemirror_mode": {
    "name": "ipython",
    "version": 3
   },
   "file_extension": ".py",
   "mimetype": "text/x-python",
   "name": "python",
   "nbconvert_exporter": "python",
   "pygments_lexer": "ipython3",
   "version": "3.9.7"
  }
 },
 "nbformat": 4,
 "nbformat_minor": 5
}
